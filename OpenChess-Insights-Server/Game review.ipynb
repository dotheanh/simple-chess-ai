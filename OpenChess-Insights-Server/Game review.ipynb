{
 "cells": [
  {
   "cell_type": "code",
   "execution_count": 1,
   "metadata": {},
   "outputs": [],
   "source": [
    "import chess.engine  \n",
    "from IPython.display import clear_output\n",
    "import time\n",
    "import pandas as pd\n",
    "import re\n",
    "import chess.pgn\n",
    "from collections import Counter # for calculating captured pieces\n",
    "import math\n",
    "import numpy as np\n",
    "import io\n",
    "from tqdm import tqdm\n",
    "\n",
    "stockfish_path = \"stockfish.exe\"\n"
   ]
  },
  {
   "cell_type": "code",
   "execution_count": 2,
   "metadata": {},
   "outputs": [],
   "source": [
    "STOCKFISH_CONFIG = {\"time\": 0.25}"
   ]
  },
  {
   "cell_type": "code",
   "execution_count": 3,
   "metadata": {},
   "outputs": [],
   "source": [
    "openings_df = pd.read_csv(\"openings_master.csv\")\n",
    "# only 2 openings have more than 12 moves"
   ]
  },
  {
   "cell_type": "code",
   "execution_count": 4,
   "metadata": {},
   "outputs": [],
   "source": [
    "def search_opening(dataframe, pgn):\n",
    "\n",
    "    # Check if the search_string is in column 'A'\n",
    "    mask = dataframe['pgn'] == pgn\n",
    "\n",
    "    # If there is a match, return the corresponding value in column 'B'\n",
    "    if any(mask):\n",
    "        return dataframe.loc[mask, 'name'].iloc[0]\n",
    "    else:\n",
    "        return None"
   ]
  },
  {
   "cell_type": "markdown",
   "metadata": {},
   "source": [
    "### Useful snippets"
   ]
  },
  {
   "cell_type": "code",
   "execution_count": 5,
   "metadata": {},
   "outputs": [
    {
     "data": {
      "text/plain": [
       "'chess.parse_square(\\'f3\\')\\nfile_rank = chess.square_name(square_int)\\n\\n\\nuci_move = chess.Move.from_uci(\"g3g4\")\\nboard.push(uci_move)\\nboard.push_san\\n\\n[(chess.PAWN, 1),\\n(chess.BISHOP, 3),\\n(chess.KING, 0),\\n(chess.QUEEN, 9),\\n(chess.KNIGHT, 3),\\n(chess.ROOK, 5)]'"
      ]
     },
     "execution_count": 5,
     "metadata": {},
     "output_type": "execute_result"
    }
   ],
   "source": [
    "'''chess.parse_square('f3')\n",
    "file_rank = chess.square_name(square_int)\n",
    "\n",
    "\n",
    "uci_move = chess.Move.from_uci(\"g3g4\")\n",
    "board.push(uci_move)\n",
    "board.push_san\n",
    "\n",
    "[(chess.PAWN, 1),\n",
    "(chess.BISHOP, 3),\n",
    "(chess.KING, 0),\n",
    "(chess.QUEEN, 9),\n",
    "(chess.KNIGHT, 3),\n",
    "(chess.ROOK, 5)]'''"
   ]
  },
  {
   "cell_type": "markdown",
   "metadata": {},
   "source": [
    "## Testing"
   ]
  },
  {
   "cell_type": "markdown",
   "metadata": {},
   "source": [
    "Look for defended pieces"
   ]
  },
  {
   "cell_type": "code",
   "execution_count": 6,
   "metadata": {},
   "outputs": [],
   "source": [
    "def check_for_defended_pieces(board):\n",
    "    for hanging_square in chess.SQUARES:\n",
    "        maybe_hanging_piece = board.piece_at(hanging_square)\n",
    "        if maybe_hanging_piece is not None:\n",
    "\n",
    "            for defending_square in chess.SQUARES: # see if attacked piece has defenders\n",
    "                maybe_defending_piece = board.piece_at(defending_square)\n",
    "                if (maybe_defending_piece is not None) and (maybe_hanging_piece.color == maybe_defending_piece.color):\n",
    "\n",
    "                    if hanging_square in list(board.attacks(defending_square)): # check if attacked piece's square is on the attacks (is defended by) of another piece\n",
    "                        print(f'{board.piece_at(hanging_square)} is defended by the {board.piece_at(defending_square)}')\n",
    "\n",
    "def is_defended(board: chess.Board, square, by_color=None, return_list_of_defenders=False):\n",
    "\n",
    "    piece = board.piece_at(square)\n",
    "\n",
    "    if by_color is None:\n",
    "        defenders = board.attackers(piece.color, square)\n",
    "    else:\n",
    "        defenders = board.attackers(by_color, square)\n",
    "\n",
    "    if return_list_of_defenders:\n",
    "        return defenders\n",
    "    \n",
    "    if len(defenders) > 0:\n",
    "        return True\n",
    "    \n",
    "    return False"
   ]
  },
  {
   "cell_type": "markdown",
   "metadata": {},
   "source": [
    "Look for vulnerable/hanging pieces"
   ]
  },
  {
   "cell_type": "code",
   "execution_count": 7,
   "metadata": {},
   "outputs": [],
   "source": [
    "def check_for_hanging_pieces(board, return_list_of_hanging=False, fr_format=False):\n",
    "\n",
    "    hanging_pieces = []\n",
    "    hanging_pieces_and_attackers = dict()\n",
    "\n",
    "    for square in chess.SQUARES:\n",
    "        maybe_hanging_piece = board.piece_at(square)\n",
    "        \n",
    "        if (maybe_hanging_piece is not None):\n",
    "            if not (is_defended(board, square)):\n",
    "                attackers = list(board.attackers(not maybe_hanging_piece.color, square))\n",
    "                if len(attackers) > 0:\n",
    "\n",
    "                    if fr_format:\n",
    "                        hanging_pieces_and_attackers[chess.square_name(square)] = [chess.square_name(s) for s in attackers]\n",
    "                        hanging_pieces.append(chess.square_name(square))\n",
    "                    else:\n",
    "                        hanging_pieces_and_attackers[square] = attackers\n",
    "                        hanging_pieces.append(square)\n",
    "                        #print(f'The {maybe_hanging_piece} is left hanging and can be captured by {', '.join(str(board.piece_at(p)) for p in attackers)}')\n",
    "\n",
    "\n",
    "    if return_list_of_hanging:\n",
    "        return hanging_pieces\n",
    "    else:\n",
    "        return hanging_pieces_and_attackers\n",
    "\n",
    "def is_hanging(board: chess.Board, square, capturable_by=None, return_list_of_attackers=False):\n",
    "    maybe_hanging_piece = board.piece_at(square)\n",
    "\n",
    "    if capturable_by is None:\n",
    "        square_is_defended = is_defended(board, square)\n",
    "\n",
    "\n",
    "        if not square_is_defended:\n",
    "            attackers = list(board.attackers(not maybe_hanging_piece.color, square))\n",
    "            if len(attackers) > 0:\n",
    "                if return_list_of_attackers:\n",
    "                    return attackers\n",
    "                else:\n",
    "                    return True\n",
    "            else:\n",
    "                return False\n",
    "    else:\n",
    "        square_is_defended = is_defended(board, square, not capturable_by)\n",
    "\n",
    "        if not square_is_defended:\n",
    "            attackers = list(board.attackers(capturable_by, square))\n",
    "        \n",
    "            if len(attackers) > 0:\n",
    "                if return_list_of_attackers:\n",
    "                    return attackers\n",
    "                else:\n",
    "                    return True\n",
    "            else:\n",
    "                return False\n",
    "    \n",
    "        \n",
    "    return False\n",
    "        \n",
    "def move_hangs_piece(board: chess.Board, move, return_hanging_squares=False):\n",
    "    #move = board.parse_san(move)\n",
    "\n",
    "    position_after_move = board.copy()\n",
    "    position_after_move.push(move)\n",
    "\n",
    "    hanging_before = check_for_hanging_pieces(board, return_list_of_hanging=True)\n",
    "    hanging_after = check_for_hanging_pieces(position_after_move, return_list_of_hanging=True)\n",
    "\n",
    "    if return_hanging_squares:\n",
    "        return hanging_after\n",
    "    else:\n",
    "        if hanging_before == hanging_after:\n",
    "            return False\n",
    "        else:\n",
    "            return True\n"
   ]
  },
  {
   "cell_type": "markdown",
   "metadata": {},
   "source": [
    "Checking if move defends a hanging piece"
   ]
  },
  {
   "cell_type": "code",
   "execution_count": 8,
   "metadata": {},
   "outputs": [],
   "source": [
    "def move_defends_hanging_piece(board: chess.Board, move, return_list_defended=False):\n",
    "\n",
    "    if board.is_castling(move):\n",
    "        if return_list_defended:\n",
    "            return []\n",
    "        return False\n",
    "    #move = board.parse_san(move)\n",
    "    \n",
    "    position_after_move = board.copy()\n",
    "    position_after_move.push(move)\n",
    "\n",
    "    defended_squares = []\n",
    "    for defended_square in position_after_move.attacks(move.to_square):\n",
    "        defended_piece = position_after_move.piece_at(defended_square)\n",
    "        if (defended_piece is not None) and (defended_piece.color == board.turn):\n",
    "            if not is_defended(board, defended_square, by_color=board.turn):\n",
    "                defended_squares.append(defended_square)\n",
    "    \n",
    "    if return_list_defended:\n",
    "        return defended_squares\n",
    "\n",
    "    if len(defended_squares > 0):\n",
    "        return True\n",
    "    else:\n",
    "        return False\n",
    "\n"
   ]
  },
  {
   "cell_type": "markdown",
   "metadata": {},
   "source": [
    "Detecting moves that create forks, miss forks, and allows forks"
   ]
  },
  {
   "cell_type": "code",
   "execution_count": 9,
   "metadata": {},
   "outputs": [],
   "source": [
    "def move_creates_fork(board: chess.Board, move, return_forked_squares=False):        \n",
    "\n",
    "    position_after_move = board.copy()\n",
    "    position_after_move.push(move)\n",
    "\n",
    "    return is_forking(position_after_move, move.to_square, return_forked_squares)"
   ]
  },
  {
   "cell_type": "code",
   "execution_count": 10,
   "metadata": {},
   "outputs": [],
   "source": [
    "def move_allows_fork(board: chess.Board, move, return_forking_moves=False):\n",
    "    \n",
    "    forking_moves = []\n",
    "\n",
    "    position_after_move = board.copy()\n",
    "    position_after_move.push(move)\n",
    "\n",
    "    for maybe_forking_move in position_after_move.legal_moves:\n",
    "        if move_creates_fork(position_after_move, maybe_forking_move):\n",
    "            forking_moves.append(maybe_forking_move)\n",
    "\n",
    "    if return_forking_moves:\n",
    "        return forking_moves\n",
    "    \n",
    "    if len(forking_moves) == 0:\n",
    "        return False\n",
    "    else:\n",
    "        return True"
   ]
  },
  {
   "cell_type": "code",
   "execution_count": 11,
   "metadata": {},
   "outputs": [],
   "source": [
    "def move_misses_fork(board: chess.Board, move, return_forking_moves=False):\n",
    "    forking_moves = []\n",
    "\n",
    "    for maybe_fork_move in board.legal_moves:\n",
    "        if move_creates_fork(board, maybe_fork_move):\n",
    "            forking_moves.append(maybe_fork_move)\n",
    "\n",
    "    if return_forking_moves:\n",
    "        return forking_moves\n",
    "        \n",
    "    if move in forking_moves:\n",
    "        return False\n",
    "    else:\n",
    "        return True\n",
    "        "
   ]
  },
  {
   "cell_type": "code",
   "execution_count": 12,
   "metadata": {},
   "outputs": [],
   "source": [
    "def is_forking(board: chess.Board, square, return_forked_squares=False):\n",
    "    forked_squares = []\n",
    "\n",
    "    square_can_be_captured_by = not board.piece_at(square).color\n",
    "\n",
    "    if len(board.attackers(square_can_be_captured_by, square)) > 0:\n",
    "\n",
    "        if (not is_defended(board, square, not square_can_be_captured_by)):\n",
    "\n",
    "            if return_forked_squares:\n",
    "                return []\n",
    "            return False\n",
    "\n",
    "    attacks = board.attacks(square)\n",
    "    for attacked_square in attacks:\n",
    "        attacked_piece = board.piece_at(attacked_square)\n",
    "        if (attacked_piece is not None) and (attacked_piece.color != board.piece_at(square).color):\n",
    "            if not is_defended(board, attacked_square):\n",
    "                forked_squares.append(attacked_square)\n",
    "            else:\n",
    "                if board.piece_type_at(attacked_square) > board.piece_type_at(square):\n",
    "                    forked_squares.append(attacked_square)\n",
    "\n",
    "                elif board.piece_type_at(attacked_square) < board.piece_type_at(square):\n",
    "                    if str(attacked_piece).lower() == 'k':\n",
    "                        forked_squares.append(attacked_square)\n",
    "\n",
    "    if return_forked_squares:\n",
    "        return forked_squares\n",
    "    \n",
    "    else:   \n",
    "\n",
    "        if len(forked_squares) >= 2:\n",
    "            return True\n",
    "\n",
    "        else:\n",
    "            return False"
   ]
  },
  {
   "cell_type": "markdown",
   "metadata": {},
   "source": [
    "See if move blocks a check"
   ]
  },
  {
   "cell_type": "code",
   "execution_count": 13,
   "metadata": {},
   "outputs": [],
   "source": [
    "def move_blocks_check(board: chess.Board, move):\n",
    "\n",
    "    #move = board.parse_san(move)\n",
    "\n",
    "    if (board.is_check()) and (not board.is_capture(move)):\n",
    "\n",
    "        king_square = board.king(board.turn)   \n",
    "        position_after_move = board.copy()\n",
    "        position_after_move.push(move)\n",
    "\n",
    "        if str(position_after_move.piece_at(king_square)).lower() == 'k':\n",
    "            return True\n",
    "        else:\n",
    "            return False\n",
    "        \n",
    "    else:\n",
    "        return False"
   ]
  },
  {
   "cell_type": "markdown",
   "metadata": {},
   "source": [
    "Evaluation function"
   ]
  },
  {
   "cell_type": "code",
   "execution_count": 14,
   "metadata": {},
   "outputs": [],
   "source": [
    "def evaluate(board, return_mate_n=False):\n",
    "    with chess.engine.SimpleEngine.popen_uci(stockfish_path) as engine:\n",
    "        info = engine.analyse(board, chess.engine.Limit(**STOCKFISH_CONFIG))\n",
    "\n",
    "    possible_mate_score = str(info['score'].relative)\n",
    "    if '#' in possible_mate_score:\n",
    "\n",
    "        n = abs(int(possible_mate_score.replace(\"#\", '')))\n",
    "\n",
    "        if '+' in possible_mate_score:\n",
    "            if board.turn == True: # if black played the mate move\n",
    "                if return_mate_n:\n",
    "                    return 10000, n\n",
    "                else:\n",
    "                    return 10000\n",
    "            else: # if white played the mate move\n",
    "                if return_mate_n:\n",
    "                    return -10000, n\n",
    "                else:\n",
    "                    return -10000\n",
    "        else:\n",
    "            if board.turn == True: # if black played the mate move\n",
    "                if return_mate_n:\n",
    "                    return -10000, n\n",
    "                else:\n",
    "                    return -10000\n",
    "            else: # if white played the mate move\n",
    "                if return_mate_n:\n",
    "                    return 10000, n\n",
    "                else:\n",
    "                    return 10000\n",
    "\n",
    "    # handle error if score is none when mate in n\n",
    "    if board.turn == True:\n",
    "        score = info['score'].relative.score()\n",
    "    elif board.turn == False:\n",
    "        score = -info['score'].relative.score() # transform score to absolute score (pos in favor of white, neg in favor black)\n",
    "\n",
    "    if return_mate_n:\n",
    "        return score, None\n",
    "    else:\n",
    "        return score\n",
    "\n",
    "def evaluate_relative(board):\n",
    "    with chess.engine.SimpleEngine.popen_uci(stockfish_path) as engine:\n",
    "        info = engine.analyse(board, chess.engine.Limit(**STOCKFISH_CONFIG))\n",
    "\n",
    "    possible_mate_score = str(info['score'].relative)\n",
    "    if '#' in possible_mate_score:\n",
    "        if '+' in possible_mate_score:\n",
    "            return 10000\n",
    "        else:\n",
    "            return -10000\n",
    "\n",
    "    # handle error if score is none when mate in n\n",
    "    score = info['score'].relative.score()\n",
    "    return score"
   ]
  },
  {
   "cell_type": "markdown",
   "metadata": {},
   "source": [
    "Check if board has mate in n"
   ]
  },
  {
   "cell_type": "code",
   "execution_count": 15,
   "metadata": {},
   "outputs": [],
   "source": [
    "def has_mate_in_n(board):\n",
    "    with chess.engine.SimpleEngine.popen_uci(stockfish_path) as engine:\n",
    "        info = engine.analyse(board, chess.engine.Limit(**STOCKFISH_CONFIG))\n",
    "\n",
    "        if '#' in str(info['score'].relative):\n",
    "            return True\n",
    "        else:\n",
    "            return False"
   ]
  },
  {
   "cell_type": "code",
   "execution_count": 16,
   "metadata": {},
   "outputs": [],
   "source": [
    "def move_allows_mate(board: chess.Board, move, return_winning_player=False):\n",
    "    #move = board.parse_san(move)\n",
    "    position_after_move = board.copy()\n",
    "    position_after_move.push(move)\n",
    "\n",
    "    with chess.engine.SimpleEngine.popen_uci(stockfish_path) as engine:\n",
    "        info = engine.analyse(position_after_move, chess.engine.Limit(**STOCKFISH_CONFIG))\n",
    "\n",
    "    score = str(info['score'].relative)\n",
    "\n",
    "    if return_winning_player:\n",
    "        if '#' not in score:\n",
    "            return None\n",
    "        else:\n",
    "            if '+' in score:\n",
    "                return not board.turn\n",
    "            elif '-' in score:\n",
    "                return board.turn\n",
    "\n",
    "    if '#' not in score:\n",
    "        return False\n",
    "    else:\n",
    "        return True\n"
   ]
  },
  {
   "cell_type": "markdown",
   "metadata": {},
   "source": [
    "How many points gained for a move"
   ]
  },
  {
   "cell_type": "code",
   "execution_count": 17,
   "metadata": {},
   "outputs": [],
   "source": [
    "def calculate_points_gained_by_move(board: chess.Board, move, **kwargs):\n",
    "    previous_score = evaluate(board)\n",
    "\n",
    "    position_after_move = board.copy()\n",
    "    position_after_move.push(move)\n",
    "\n",
    "    current_score, n = evaluate(position_after_move, return_mate_n=True)\n",
    "    \n",
    "    #points_gained = calculate_points_gained(position_after_move, previous_score)\n",
    "\n",
    "    #print(previous_score, current_score)\n",
    "\n",
    "    if board.turn == True:\n",
    "\n",
    "        if (previous_score != 10000) and (current_score == 10000):\n",
    "            return f'mates {n}'\n",
    "        elif (previous_score == 10000) and (current_score == 10000):\n",
    "            return f'mates {n}'\n",
    "        elif (previous_score == -10000) and (current_score == -10000):\n",
    "            return f'continues gets mated {n}'\n",
    "        elif (previous_score != -10000) and (current_score == -10000):\n",
    "            return f'gets mated {n}'\n",
    "        elif (previous_score == 10000) and (current_score != 10000):\n",
    "            return f'lost mate'\n",
    "        \n",
    "        points_gained = current_score - previous_score\n",
    "\n",
    "    else:\n",
    "\n",
    "        if (previous_score != -10000) and (current_score == -10000):\n",
    "            return f'mates {n}'\n",
    "        elif (previous_score == -10000) and (current_score == -10000):\n",
    "            return f'mates {n}'\n",
    "        elif (previous_score == 10000) and (current_score == 10000):\n",
    "            return f'continues gets mated {n}'\n",
    "        elif (previous_score != 10000) and (current_score == 10000):\n",
    "            return f'gets mated {n}'\n",
    "        elif (previous_score == -10000) and (current_score != -10000):\n",
    "            return f'lost mate'\n",
    "\n",
    "        points_gained = previous_score - current_score\n",
    "\n",
    "    return points_gained"
   ]
  },
  {
   "cell_type": "markdown",
   "metadata": {},
   "source": [
    "Classifying moves into 5"
   ]
  },
  {
   "cell_type": "code",
   "execution_count": 18,
   "metadata": {},
   "outputs": [],
   "source": [
    "def classify_move(board: chess.Board, move):\n",
    "\n",
    "    points_gained = calculate_points_gained_by_move(board, move)\n",
    "\n",
    "    if type(points_gained) == str:\n",
    "        # quite redundant put im putting it for clarity\n",
    "        if 'mates' in points_gained: \n",
    "            return points_gained\n",
    "        elif 'continues gets mated' in points_gained:\n",
    "            return points_gained\n",
    "        elif 'gets mated' in points_gained:\n",
    "            return points_gained\n",
    "        elif 'lost mate' in points_gained:\n",
    "            return points_gained\n",
    "\n",
    "    if (points_gained >= -20):\n",
    "        return 'excellent'\n",
    "    elif (points_gained < -20) and (points_gained >= -100):\n",
    "        return 'good'\n",
    "    elif (points_gained < -100) and (points_gained >= -250):\n",
    "        return 'inaccuracy'\n",
    "    elif (points_gained < -250) and (points_gained >= -450):\n",
    "        return 'mistake'\n",
    "    else:\n",
    "        return 'blunder'\n"
   ]
  },
  {
   "cell_type": "markdown",
   "metadata": {},
   "source": [
    "Rank all legal moves from lowest to highest eval"
   ]
  },
  {
   "cell_type": "code",
   "execution_count": 19,
   "metadata": {},
   "outputs": [],
   "source": [
    "def rank_moves(board: chess.Board, return_dict=False):\n",
    "    # ascending order\n",
    "    \n",
    "    scores = []\n",
    "    moves = [] # best to worst\n",
    "\n",
    "    for move in board.legal_moves:\n",
    "\n",
    "        position_after_move = board.copy()\n",
    "        position_after_move.push(move)\n",
    "\n",
    "        score = evaluate(position_after_move)\n",
    "        \n",
    "        moves.append(move)\n",
    "        scores.append(score)\n",
    "\n",
    "    moves = [m for _, m in sorted(zip(scores, moves))]\n",
    "    scores = sorted(scores)\n",
    "\n",
    "    if return_dict:\n",
    "        return {m: s for m, s in zip(moves, scores)}\n",
    "    else:\n",
    "        return moves\n"
   ]
  },
  {
   "cell_type": "markdown",
   "metadata": {},
   "source": [
    "Detect developing moves"
   ]
  },
  {
   "cell_type": "code",
   "execution_count": 20,
   "metadata": {},
   "outputs": [],
   "source": [
    "def is_developing_move(board: chess.Board, move):\n",
    "    #move = board.parse_san(move)\n",
    "\n",
    "    if move.from_square in [chess.B1, chess.G1, chess.B8, chess.G8]:\n",
    "        if str(board.piece_at(move.from_square)).lower() == 'n':\n",
    "            return 'N'\n",
    "        else:\n",
    "            return False\n",
    "    elif move.from_square in [chess.C1, chess.F1, chess.C8, chess.F8]:\n",
    "        if str(board.piece_at(move.from_square)).lower() == 'b':\n",
    "            return 'B'\n",
    "        else:\n",
    "            return False\n",
    "    elif move.from_square in [chess.C1, chess.F1, chess.C8, chess.F8]:\n",
    "        if str(board.piece_at(move.from_square)).lower() == 'q':\n",
    "            return 'Q'\n",
    "        else:\n",
    "            return False\n",
    "    elif move.from_square in [chess.H1, chess.A1, chess.H8, chess.A8]:\n",
    "        if str(board.piece_at(move.from_square)).lower() == 'r':\n",
    "            return 'R'\n",
    "        else:\n",
    "            return False\n",
    "    else:\n",
    "        return False"
   ]
  },
  {
   "cell_type": "code",
   "execution_count": 21,
   "metadata": {},
   "outputs": [],
   "source": [
    "def is_fianchetto(board: chess.Board, move):\n",
    "    #move = board.parse_san(move)\n",
    "\n",
    "    if str(board.piece_at(move.from_square)).lower() == 'b':\n",
    "        if move.from_square in [chess.C1, chess.F1, chess.C8, chess.F8]:\n",
    "            if move.to_square in [chess.B2, chess.G2, chess.B7, chess.G7]:\n",
    "                return True\n",
    "        \n",
    "    return False"
   ]
  },
  {
   "cell_type": "markdown",
   "metadata": {},
   "source": [
    "Check for future threats/attacks"
   ]
  },
  {
   "cell_type": "code",
   "execution_count": 22,
   "metadata": {},
   "outputs": [],
   "source": [
    "def check_for_threats(board: chess.Board, moves_ahead=2, take_turns=False, by_opponent=True):\n",
    "\n",
    "    assert not board.is_check()\n",
    "\n",
    "    threat_moves = []\n",
    "\n",
    "    opponent_color = not board.turn\n",
    "    \n",
    "    if take_turns:\n",
    "        with chess.engine.SimpleEngine.popen_uci(stockfish_path) as engine:\n",
    "            info = engine.analyse(board, chess.engine.Limit(**STOCKFISH_CONFIG))\n",
    "\n",
    "        threat_moves = info['pv'][:moves_ahead]\n",
    "\n",
    "    else:\n",
    "\n",
    "        experiment_board = board.copy()\n",
    "        for i in range(moves_ahead):\n",
    "            experiment_board = chess.Board(experiment_board.fen())\n",
    "            if by_opponent:\n",
    "                experiment_board.turn = opponent_color\n",
    "            else:\n",
    "                experiment_board.turn = not opponent_color\n",
    "            with chess.engine.SimpleEngine.popen_uci(stockfish_path) as engine:\n",
    "                info = engine.analyse(experiment_board, chess.engine.Limit(**STOCKFISH_CONFIG))\n",
    "            \n",
    "            best_move = info['pv'][0]\n",
    "            threat_moves.append(best_move)\n",
    "            experiment_board.push(best_move)\n",
    "\n",
    "            if experiment_board.is_check():\n",
    "                break\n",
    "\n",
    "\n",
    "    return threat_moves"
   ]
  },
  {
   "cell_type": "code",
   "execution_count": 23,
   "metadata": {},
   "outputs": [],
   "source": [
    "def is_possible_trade(board: chess.Board, move):\n",
    "    #move = board.parse_san(move)\n",
    "    \n",
    "    if board.is_capture(move):\n",
    "        \n",
    "        if is_defended(board, move.to_square, by_color=not board.turn):\n",
    "            if board.piece_type_at(move.to_square) == board.piece_type_at(move.from_square):\n",
    "                return True\n",
    "            elif (board.piece_type_at(move.to_square) == 2) and (board.piece_type_at(move.from_square) == 3):\n",
    "                return True\n",
    "            elif (board.piece_type_at(move.to_square) == 3) and (board.piece_type_at(move.from_square) == 2):\n",
    "                return True\n",
    "            else:\n",
    "                return False\n",
    "        else:\n",
    "            return False\n",
    "    else:\n",
    "        attackers = list(board.attackers(not board.turn, move.to_square))\n",
    "        if len(attackers) > 0:\n",
    "            for attacking_square in attackers:\n",
    "                if is_defended(board, move.to_square, by_color=board.turn):\n",
    "                    if board.piece_type_at(attacking_square) == board.piece_type_at(move.from_square):\n",
    "                        if not board.is_pinned(not board.turn, attacking_square):\n",
    "                            return True\n",
    "                    elif (board.piece_type_at(attacking_square) == 2) and (board.piece_type_at(move.from_square) == 3):\n",
    "                        return True\n",
    "                    elif (board.piece_type_at(attacking_square) == 3) and (board.piece_type_at(move.from_square) == 2):\n",
    "                        return True\n",
    "                else:\n",
    "                    return True\n",
    "            \n",
    "        \n",
    "        return False"
   ]
  },
  {
   "cell_type": "code",
   "execution_count": 24,
   "metadata": {},
   "outputs": [],
   "source": [
    "def move_is_discovered_check(board: chess.Board, move):\n",
    "    position_after_move = board.copy()\n",
    "    position_after_move.push(move)\n",
    "\n",
    "    if position_after_move.is_check():\n",
    "        for attacked_square in position_after_move.attacks(move.to_square):\n",
    "            if str(position_after_move.piece_at(attacked_square)).lower() == 'k':\n",
    "                return False\n",
    "        return True\n",
    "        \n",
    "    return False"
   ]
  },
  {
   "cell_type": "code",
   "execution_count": 25,
   "metadata": {},
   "outputs": [],
   "source": [
    "def move_is_discovered_check_and_attacks(board: chess.Board, move, return_attacked_squares=False):\n",
    "    if not move_is_discovered_check(board, move):\n",
    "        if return_attacked_squares:\n",
    "            return []\n",
    "        return False\n",
    "    \n",
    "    position_after_move = board.copy()\n",
    "    position_after_move.push(move)\n",
    "\n",
    "    attacked_squares = []\n",
    "\n",
    "    for attacked_square in position_after_move.attacks(move.to_square):\n",
    "        if position_after_move.piece_at(attacked_square) is not None:\n",
    "            if is_hanging(position_after_move, attacked_square, capturable_by=board.turn):\n",
    "                attacked_squares.append(attacked_square)\n",
    "            elif position_after_move.piece_type_at(attacked_square) > position_after_move.piece_type_at(move.to_square):\n",
    "                attacked_squares.append(attacked_square)\n",
    "\n",
    "    if return_attacked_squares:\n",
    "        return attacked_squares\n",
    "    \n",
    "    if len(attacked_squares) > 0:\n",
    "        return True\n",
    "    else:\n",
    "        return False"
   ]
  },
  {
   "cell_type": "code",
   "execution_count": 26,
   "metadata": {},
   "outputs": [],
   "source": [
    "def is_trapped(board: chess.Board, square, by):\n",
    "\n",
    "    if str(board.piece_at(square)).lower() == 'k':\n",
    "        return False\n",
    "\n",
    "    attackers = board.attackers(by, square)\n",
    "\n",
    "    capturable_by_lower = False\n",
    "\n",
    "    for attacking_square in attackers:\n",
    "        if board.piece_at(attacking_square).color != board.piece_at(square).color:\n",
    "            if board.piece_type_at(attacking_square) < board.piece_type_at(square):\n",
    "                capturable_by_lower = True\n",
    "    \n",
    "    if not capturable_by_lower:\n",
    "        return False\n",
    "\n",
    "    can_be_saved = True\n",
    "\n",
    "    movable_squares = board.attacks(square)\n",
    "\n",
    "    for move_to_square in movable_squares:\n",
    "\n",
    "        if board.piece_at(move_to_square) is None:\n",
    "\n",
    "            defending_squares = board.attackers(by, move_to_square)\n",
    "            \n",
    "            if len(defending_squares) == 0:\n",
    "                can_be_saved = True\n",
    "                \n",
    "                return False\n",
    "\n",
    "            for defending_square in defending_squares:\n",
    "\n",
    "                if board.piece_at(defending_square).color != board.piece_at(square).color:\n",
    "\n",
    "                    if board.piece_type_at(defending_square) < board.piece_type_at(square):\n",
    "                        if not board.is_pinned(by, defending_square):\n",
    "                            can_be_saved = False   \n",
    "                        else:\n",
    "                            can_be_saved = True\n",
    "        \n",
    "                    elif board.piece_type_at(defending_square) == board.piece_type_at(square):\n",
    "                        if not board.is_pinned(by, defending_square):\n",
    "                            defenders = is_defended(board, defending_square, by_color=not by, return_list_of_defenders=True)\n",
    "                            if len(defenders) <= 1: # if the trapped piece is the only defender\n",
    "                                can_be_saved = False\n",
    "\n",
    "                    else:\n",
    "                        can_be_saved = True \n",
    "\n",
    "        elif (board.piece_at(move_to_square).color != board.piece_at(square).color) and (board.piece_type_at(move_to_square) <= board.piece_type_at(square)):\n",
    "\n",
    "            defending_squares = board.attackers(by, move_to_square)\n",
    "            \n",
    "            if len(defending_squares) == 0:\n",
    "                can_be_saved = True\n",
    "                \n",
    "                return False\n",
    "\n",
    "            for defending_square in defending_squares:\n",
    "\n",
    "                if board.piece_at(defending_square).color != board.piece_at(square).color:\n",
    "\n",
    "                    if board.piece_type_at(defending_square) < board.piece_type_at(square):\n",
    "                        if not board.is_pinned(by, defending_square):\n",
    "                            can_be_saved = False   \n",
    "                        else:\n",
    "                            can_be_saved = True\n",
    "        \n",
    "                    elif board.piece_type_at(defending_square) == board.piece_type_at(square):\n",
    "                        if not board.is_pinned(by, defending_square):\n",
    "                            defenders = is_defended(board, defending_square, by_color=not by, return_list_of_defenders=True)\n",
    "                            if len(defenders) <= 1: # if the trapped piece is the only defender\n",
    "                                can_be_saved = False\n",
    "\n",
    "                    else:\n",
    "                        can_be_saved = True \n",
    "\n",
    "    if not can_be_saved:\n",
    "        return True\n",
    "    else:\n",
    "        return False"
   ]
  },
  {
   "cell_type": "code",
   "execution_count": 27,
   "metadata": {},
   "outputs": [],
   "source": [
    "def move_traps_opponents_piece(board: chess.Board, move, return_trapped_squares=False):\n",
    "    position_after_move = board.copy()\n",
    "    position_after_move.push(move)\n",
    "\n",
    "    trapped_squares = []\n",
    "\n",
    "    for attacked_square in position_after_move.attacks(move.to_square):\n",
    "        if position_after_move.piece_at(attacked_square) is not None:\n",
    "            if position_after_move.piece_at(attacked_square).color != position_after_move.piece_at(move.to_square):\n",
    "                if is_trapped(position_after_move, attacked_square, by=board.turn):\n",
    "                    trapped_squares.append(attacked_square)\n",
    "\n",
    "    if return_trapped_squares:\n",
    "        return trapped_squares\n",
    "    \n",
    "    if len(trapped_squares) > 0:\n",
    "        return True\n",
    "    else:\n",
    "        return False"
   ]
  },
  {
   "cell_type": "code",
   "execution_count": 28,
   "metadata": {},
   "outputs": [],
   "source": [
    "def is_possible_sacrifice(board: chess.Board, move):\n",
    "\n",
    "    if str(board.piece_at(move.from_square)).lower() == 'p':\n",
    "        return False\n",
    "\n",
    "    if board.is_capture(move):\n",
    "        defending_squares = is_defended(board, move.to_square, by_color=not board.turn, return_list_of_defenders=True)\n",
    "\n",
    "        if len(defending_squares) > 0:\n",
    "            \n",
    "            if board.piece_type_at(move.to_square) < board.piece_type_at(move.from_square):\n",
    "                \n",
    "                if (board.piece_type_at(move.to_square) != 2) or (board.piece_type_at(move.from_square) != 3):\n",
    "                    for defending_square in defending_squares:\n",
    "                        if board.piece_type_at(defending_square) < board.piece_type_at(move.from_square):\n",
    "                            return True\n",
    "                        else:\n",
    "                            return False\n",
    "                else:\n",
    "                    return False\n",
    "            else:\n",
    "                return False             \n",
    "        else:\n",
    "            return False\n",
    "        \n",
    "    else:\n",
    "        attackers = list(board.attackers(not board.turn, move.to_square))\n",
    "        if len(attackers) > 0:\n",
    "            for attacking_square in attackers:\n",
    "                if is_defended(board, move.to_square, by_color=board.turn):\n",
    "                    if board.piece_type_at(attacking_square) < board.piece_type_at(move.from_square):\n",
    "                        if (board.piece_type_at(attacking_square) != 2) or (board.piece_type_at(move.from_square) != 3):\n",
    "                            if not board.is_pinned(not board.turn, attacking_square):\n",
    "                                return True\n",
    "                else:\n",
    "                    return True\n",
    "        \n",
    "        return False"
   ]
  },
  {
   "cell_type": "code",
   "execution_count": 29,
   "metadata": {},
   "outputs": [],
   "source": [
    "def move_pins_opponent(board: chess.Board, move, return_pinned_square=False):\n",
    "    #move = board.parse_san(move)\n",
    "\n",
    "    if board.is_attacked_by(not board.turn, move.to_square):\n",
    "        if (not is_defended(board, move.to_square, by_color=board.turn)):\n",
    "            return False\n",
    "\n",
    "    position_after_move = board.copy()\n",
    "    position_after_move.push(move)\n",
    "    pinned_square = None\n",
    "\n",
    "    '''\n",
    "    for square in chess.SQUARES: # check if there already is a pin\n",
    "        piece = board.piece_at(square)\n",
    "        if piece is not None:\n",
    "            if piece.color is not board.turn:\n",
    "                if board.is_pinned(not board.turn, square):\n",
    "                    return False\n",
    "    '''\n",
    "\n",
    "    possible_pinned_squares = list(position_after_move.attacks(move.to_square))\n",
    "    for square in possible_pinned_squares:\n",
    "        if (position_after_move.piece_at(square) is not None) and (position_after_move.piece_at(square).color == position_after_move.turn):\n",
    "            if position_after_move.is_pinned(position_after_move.turn, square):\n",
    "                pinned_square = square\n",
    "                \n",
    "                break\n",
    "            else:\n",
    "                pinned_square = None\n",
    "\n",
    "    if return_pinned_square:\n",
    "        return pinned_square        \n",
    "\n",
    "    if pinned_square is not None:\n",
    "        return True\n",
    "    else:\n",
    "        return False"
   ]
  },
  {
   "cell_type": "code",
   "execution_count": 30,
   "metadata": {},
   "outputs": [],
   "source": [
    "def board_has_pin(board: chess.Board, return_pin_moves=False):\n",
    "\n",
    "    pin_moves = []\n",
    "\n",
    "    for move in board.legal_moves:\n",
    "        if move_pins_opponent(board, move):\n",
    "            pin_moves.append(move)\n",
    "\n",
    "    if return_pin_moves:\n",
    "        return pin_moves\n",
    "    \n",
    "    if len(pin_moves) > 0:\n",
    "        return True\n",
    "    else:\n",
    "        return False"
   ]
  },
  {
   "cell_type": "code",
   "execution_count": 31,
   "metadata": {},
   "outputs": [],
   "source": [
    "def move_misses_pin(board: chess.Board, move, return_pin_move=False):\n",
    "    # doesn't exactly mean that player made a pin just because it's false\n",
    "    #move = board.parse_san(move)\n",
    "\n",
    "    pin_moves = board_has_pin(board, return_pin_moves=True)\n",
    "\n",
    "    if return_pin_move:\n",
    "        return pin_moves\n",
    "\n",
    "    if len(pin_moves) == 0:\n",
    "        return False\n",
    "    else:\n",
    "        if move in pin_moves:\n",
    "            return False\n",
    "        else:\n",
    "            return True"
   ]
  },
  {
   "cell_type": "code",
   "execution_count": 32,
   "metadata": {},
   "outputs": [],
   "source": [
    "def move_misses_mate(board: chess.Board, move):\n",
    "    #move = board.parse_san(move)\n",
    "    \n",
    "    if has_mate_in_n(board):\n",
    "        position_after_move = board.copy()\n",
    "        position_after_move.push(move)\n",
    "        if has_mate_in_n(position_after_move):\n",
    "            return False\n",
    "        else:\n",
    "            return True"
   ]
  },
  {
   "cell_type": "code",
   "execution_count": 33,
   "metadata": {},
   "outputs": [],
   "source": [
    "def moves_rook_to_open_file(board: chess.Board, move):\n",
    "    # use best move to see if you missed an opportunity to put rook in open file\n",
    "    from_square_reqs = list(range(16)) + list(range(48, 64))\n",
    "    \n",
    "    #move = board.parse_san(move)\n",
    "    if str(board.piece_at(move.from_square)).lower() == 'r':\n",
    "        if move.from_square in from_square_reqs: # make sure that the rook is comming from 1, 2, 7, or 8th rank\n",
    "            if abs(move.from_square - move.to_square) < 8: # make sure that the rook move is horizontal\n",
    "                file_name = chess.square_name(move.to_square)[0]\n",
    "                num_pieces_on_file = 0\n",
    "                for i in range(1, 9):\n",
    "                    if board.piece_at(chess.parse_square(f'{file_name}{i}')) is not None:\n",
    "                        num_pieces_on_file += 1\n",
    "\n",
    "                if num_pieces_on_file < 3:\n",
    "                    return True\n",
    "    \n",
    "    return False"
   ]
  },
  {
   "cell_type": "code",
   "execution_count": 34,
   "metadata": {},
   "outputs": [],
   "source": [
    "def is_an_opening(game: str, return_name_and_desc=True):\n",
    "    opening = openings_df[openings_df['Moves'] == game]\n",
    "    \n",
    "    if return_name_and_desc:\n",
    "        if opening.empty:\n",
    "                return None, None\n",
    "        else:\n",
    "            return (opening['Name'].iloc[0], opening['Description'].iloc[0])\n",
    "    else:\n",
    "        if opening.empty:\n",
    "            return False\n",
    "        else:\n",
    "            return True"
   ]
  },
  {
   "cell_type": "code",
   "execution_count": 35,
   "metadata": {},
   "outputs": [],
   "source": [
    "def is_endgame(board: chess.Board):\n",
    "    major_pieces = 0\n",
    "    fen = board.fen()\n",
    "    for p in fen.split(' ')[0]:\n",
    "        if p.lower() in ['r', 'b', 'n', 'q']:\n",
    "            \n",
    "            major_pieces += 1\n",
    "\n",
    "    if major_pieces < 6:\n",
    "        return True\n",
    "    else:\n",
    "        return False"
   ]
  },
  {
   "cell_type": "code",
   "execution_count": 36,
   "metadata": {},
   "outputs": [],
   "source": [
    "def move_moves_king_off_backrank(board: chess.Board, move):\n",
    "    #move = board.parse_san(move)\n",
    "\n",
    "    backrank_squares = list(range(0, 8)) + list(range(56, 64))\n",
    "    if is_endgame(board):\n",
    "        if str(board.piece_at(move.from_square)).lower() == 'k':\n",
    "            if move.from_square in backrank_squares:\n",
    "                if move.to_square not in backrank_squares:\n",
    "                    return True\n",
    "        \n",
    "    return False"
   ]
  },
  {
   "cell_type": "code",
   "execution_count": 37,
   "metadata": {},
   "outputs": [],
   "source": [
    "def move_attacks_piece(board: chess.Board, move: chess.Move, return_attacked_piece=False):\n",
    "\n",
    "    position_after_move = board.copy()\n",
    "    position_after_move.push(move)\n",
    "    \n",
    "    if is_defended(position_after_move, move.to_square) or not board.is_attacked_by(position_after_move.turn, move.to_square):\n",
    "        attacked_squares = list(position_after_move.attacks(move.to_square))\n",
    "        for attacked_square in attacked_squares:\n",
    "            if position_after_move.piece_at(attacked_square) is not None:\n",
    "                if str(position_after_move.piece_at(attacked_square)).lower() != 'k':\n",
    "                    if position_after_move.piece_at(attacked_square).color != position_after_move.piece_at(move.to_square).color:\n",
    "                        if position_after_move.piece_type_at(attacked_square) > position_after_move.piece_type_at(move.to_square):\n",
    "                            \n",
    "                            if return_attacked_piece:\n",
    "                                return position_after_move.piece_at(attacked_square)\n",
    "                            return True\n",
    "                        elif is_hanging(position_after_move, attacked_square, capturable_by=not position_after_move.turn):\n",
    "                            if return_attacked_piece:\n",
    "                                return position_after_move.piece_at(attacked_square)\n",
    "                            return True\n",
    "    \n",
    "    return False"
   ]
  },
  {
   "cell_type": "code",
   "execution_count": 38,
   "metadata": {},
   "outputs": [],
   "source": [
    "def move_wins_tempo(board: chess.Board, move):\n",
    "    #move = board.parse_san(move)\n",
    "\n",
    "    if not move_attacks_piece(board, move):\n",
    "        return False\n",
    "\n",
    "    #position_after_move = board.copy()\n",
    "    #position_after_move.push(move)\n",
    "\n",
    "    #attacking_piece = position_after_move.piece_at(move.to_square)\n",
    "\n",
    "    points_gained = calculate_points_gained_by_move(board, move)\n",
    "\n",
    "    if type(points_gained) == str:\n",
    "        return False\n",
    "\n",
    "    if points_gained > 0:\n",
    "        return True\n",
    "    \n",
    "    return False"
   ]
  },
  {
   "cell_type": "code",
   "execution_count": 39,
   "metadata": {},
   "outputs": [],
   "source": [
    "def parse_pgn(pgn, san_only=False):\n",
    "    pgn = io.StringIO(pgn)\n",
    "    pgn = chess.pgn.read_game(pgn)\n",
    "\n",
    "    board = chess.Board()\n",
    "\n",
    "    san_moves = []\n",
    "    uci_moves = []\n",
    "    fens = []\n",
    "\n",
    "    if san_only:\n",
    "        for move in pgn.mainline_moves():\n",
    "            san_moves.append(board.san(move))\n",
    "            board.push(move)\n",
    "            fens.append(board.fen())\n",
    "\n",
    "        return san_moves, fens\n",
    "\n",
    "    else:\n",
    "        for move in pgn.mainline_moves():\n",
    "            san_moves.append(board.san(move))\n",
    "            board.push(move)\n",
    "            uci_moves.append(move)\n",
    "            fens.append(board.fen())\n",
    "    \n",
    "        return uci_moves, san_moves, fens"
   ]
  },
  {
   "cell_type": "code",
   "execution_count": 40,
   "metadata": {},
   "outputs": [],
   "source": [
    "def convert_movelist_to_pgn(moves: list):\n",
    "    pgn = \"\"\n",
    "    move_number = 1\n",
    "\n",
    "    for move in moves:\n",
    "        if move_number % 2 == 1:\n",
    "            pgn += f\"{move_number // 2 + 1}.{move} \"\n",
    "        else:\n",
    "            pgn += f\"{move} \"\n",
    "\n",
    "        move_number += 1\n",
    "\n",
    "    return pgn.strip()"
   ]
  },
  {
   "cell_type": "code",
   "execution_count": 41,
   "metadata": {},
   "outputs": [],
   "source": [
    "def move_captures_free_piece(board: chess.Board, move):\n",
    "    if board.is_capture(move):\n",
    "        if is_hanging(board, move.to_square, capturable_by=board.turn):\n",
    "            return True\n",
    "        \n",
    "    return False"
   ]
  },
  {
   "cell_type": "code",
   "execution_count": 42,
   "metadata": {},
   "outputs": [],
   "source": [
    "def move_misses_free_piece(board: chess.Board, move, return_free_captures=False):\n",
    "\n",
    "    free_captures = []\n",
    "\n",
    "    for legal_move in board.legal_moves:\n",
    "        if move_captures_free_piece(board, legal_move):\n",
    "            free_captures.append(legal_move)\n",
    "\n",
    "    if return_free_captures:\n",
    "        return free_captures\n",
    "    \n",
    "    if len(free_captures) == 0:\n",
    "        return False\n",
    "    else:\n",
    "        if move in free_captures:\n",
    "            return False\n",
    "        else:\n",
    "            return True"
   ]
  },
  {
   "cell_type": "code",
   "execution_count": 43,
   "metadata": {},
   "outputs": [],
   "source": [
    "def move_threatens_mate(board: chess.Board, move):\n",
    "\n",
    "    experiment_board = board.copy()\n",
    "    experiment_board.push(move)\n",
    "\n",
    "    if experiment_board.is_check():\n",
    "        return False\n",
    "\n",
    "    experiment_board.push(chess.Move.null())\n",
    "\n",
    "    with chess.engine.SimpleEngine.popen_uci(stockfish_path) as engine:\n",
    "        info = engine.analyse(experiment_board, chess.engine.Limit(**STOCKFISH_CONFIG))\n",
    "\n",
    "    score = str(info['score'].relative)\n",
    "\n",
    "    if ('#' in score) and ('+' in score):\n",
    "        return True\n",
    "    else:\n",
    "        return False"
   ]
  },
  {
   "cell_type": "code",
   "execution_count": 44,
   "metadata": {},
   "outputs": [],
   "source": [
    "def is_capturable_by_lower_piece(board: chess.Board, square, capturable_by):\n",
    "\n",
    "    attacker_squares = board.attackers(capturable_by, square)\n",
    "\n",
    "    for attacker_square in attacker_squares:\n",
    "        if board.piece_type_at(attacker_square) < board.piece_type_at(square):\n",
    "            return True"
   ]
  },
  {
   "cell_type": "code",
   "execution_count": 45,
   "metadata": {},
   "outputs": [],
   "source": [
    "def move_captures_higher_piece(board: chess.Board, move):\n",
    "\n",
    "    if board.is_capture(move):\n",
    "        if board.piece_type_at(move.from_square) < board.piece_type_at(move.to_square):\n",
    "            return True\n",
    "        \n",
    "    return False"
   ]
  },
  {
   "cell_type": "code",
   "execution_count": 46,
   "metadata": {},
   "outputs": [],
   "source": [
    "def check_for_capturable_pieces_by_lower(board: chess.Board):\n",
    "\n",
    "    capturable_squares = []\n",
    "\n",
    "    for square in board.piece_map():\n",
    "        if board.piece_at(square).color != board.turn:\n",
    "            if is_capturable_by_lower_piece(board, square, capturable_by=board.turn):\n",
    "                capturable_squares.append(square)\n",
    "\n",
    "    return capturable_squares"
   ]
  },
  {
   "cell_type": "code",
   "execution_count": 47,
   "metadata": {},
   "outputs": [],
   "source": [
    "def get_best_move(board: chess.Board):\n",
    "    with chess.engine.SimpleEngine.popen_uci(stockfish_path) as engine:\n",
    "        info = engine.analyse(board, chess.engine.Limit(**STOCKFISH_CONFIG))\n",
    "\n",
    "    best_move = info['pv'][0]\n",
    "    return best_move"
   ]
  },
  {
   "cell_type": "code",
   "execution_count": 48,
   "metadata": {},
   "outputs": [],
   "source": [
    "def get_best_sequence(board: chess.Board):\n",
    "    with chess.engine.SimpleEngine.popen_uci(stockfish_path) as engine:\n",
    "        info = engine.analyse(board, chess.engine.Limit(**STOCKFISH_CONFIG))\n",
    "\n",
    "    best_move = info['pv']\n",
    "    return best_move"
   ]
  },
  {
   "cell_type": "code",
   "execution_count": 49,
   "metadata": {},
   "outputs": [],
   "source": [
    "def get_lost_pieces(board: chess.Board):\n",
    "\n",
    "    default_pieces_white = ['P', 'P', 'P', 'P', 'P', 'P', 'P', 'P', 'Q', 'K', 'N', 'B', 'R']\n",
    "    counter_default_white = Counter(default_pieces_white)\n",
    "    default_pieces_black = [p.upper() for p in default_pieces_white]\n",
    "    counter_default_black = Counter(default_pieces_black)\n",
    "\n",
    "    pieces = [str(p) for p in list(board.piece_map().values)]\n",
    "\n",
    "    white_piece_list = [p for p in pieces if p.isupper()]\n",
    "    black_piece_list = [p for p in pieces if p.islower()]\n",
    "\n",
    "    counter_white = Counter(white_piece_list)\n",
    "    counter_black = Counter(black_piece_list)\n",
    "\n",
    "    lost_white_pieces = list((counter_default_white - counter_white).elements())\n",
    "    lost_black_pieces = list((counter_default_black - counter_black).elements())"
   ]
  },
  {
   "cell_type": "code",
   "execution_count": 50,
   "metadata": {},
   "outputs": [],
   "source": [
    "def mate_in_n_for(board):\n",
    "    with chess.engine.SimpleEngine.popen_uci(stockfish_path) as engine:\n",
    "        info = engine.analyse(board, chess.engine.Limit(**STOCKFISH_CONFIG))\n",
    "    score = str(info['score'].relative)\n",
    "\n",
    "    print(score)\n",
    "\n",
    "    assert '#' in score\n",
    "\n",
    "    n = int(''.join([i for i in score if i in ['1', '2', '3', '4', '5', '6', '7', '8', '9']]))\n",
    "\n",
    "    if '-' in score:\n",
    "        losing_side = 'Black' if (board.turn == False) else 'White'\n",
    "        return f'{losing_side} gets checkmated in {n}. '\n",
    "    elif '+' in score:\n",
    "        losing_side = 'Black' if (board.turn == True) else 'White'\n",
    "        return f'{losing_side} gets checkmated in {n}. '"
   ]
  },
  {
   "cell_type": "markdown",
   "metadata": {},
   "source": [
    "## Estimatiang ELO and Accuracy"
   ]
  },
  {
   "cell_type": "code",
   "execution_count": 51,
   "metadata": {},
   "outputs": [],
   "source": [
    "def compute_cpl(moves: list):\n",
    "    cpls_white = []\n",
    "    cpls_black = []\n",
    "    scores = []\n",
    "\n",
    "    board = chess.Board()\n",
    "\n",
    "    for e, move in (enumerate(tqdm(moves))):\n",
    "\n",
    "        comp_board = board.copy()\n",
    "        best_move = get_best_move(comp_board)\n",
    "        comp_board.push(best_move)\n",
    "        score_best = evaluate(comp_board)\n",
    "        if score_best == 10000:\n",
    "            score_best = 1000\n",
    "        elif score_best == -10000:\n",
    "            score_best = -1000\n",
    "\n",
    "        board.push(move)\n",
    "        score_player = evaluate(board)\n",
    "        if score_player == 10000:\n",
    "            score_player = 1000\n",
    "        elif score_player == -10000:\n",
    "            score_player = -1000\n",
    "\n",
    "\n",
    "        scores.append(score_player)\n",
    "\n",
    "        if e%2 == 0:\n",
    "            cpls_white.append(abs(score_best - score_player))\n",
    "        else:\n",
    "            cpls_black.append(abs(score_best - score_player))\n",
    "\n",
    "    average_cpl_white = sum(cpls_white)/len(cpls_white)\n",
    "    average_cpl_black = sum(cpls_black)/len(cpls_black)\n",
    "\n",
    "    return scores, cpls_white, cpls_black, average_cpl_white, average_cpl_black"
   ]
  },
  {
   "cell_type": "code",
   "execution_count": 52,
   "metadata": {},
   "outputs": [],
   "source": [
    "def estimate_elo(acpl, n_moves):\n",
    "    if acpl > 500:\n",
    "        return 100\n",
    "    \n",
    "    e = 2.71828\n",
    "    estimate = 3000 * (e ** (-0.01*acpl)) * ((n_moves/50)**0.5)\n",
    "    return math.ceil(estimate / 100) * 100"
   ]
  },
  {
   "cell_type": "code",
   "execution_count": 53,
   "metadata": {},
   "outputs": [],
   "source": [
    "def calculate_accuracy(eval_scores):\n",
    "\n",
    "    eval_scores = [0] + eval_scores\n",
    "    def calculate_win_percentage(cp_eval, color):\n",
    "        if color == 'w':\n",
    "            return 50 + 50 * (2 / (1 + np.exp(-0.00368208 * cp_eval)) - 1)\n",
    "        elif color == 'b':\n",
    "            return 50 + 50 * (2 / (1 + np.exp(0.00368208 * cp_eval)) - 1)\n",
    "        \n",
    "    white_win_percentages = [calculate_win_percentage(s, 'w') for s in eval_scores]\n",
    "    black_win_percentages = [100-p for p in white_win_percentages]\n",
    "\n",
    "    # Accuracy% = 103.1668 * exp(-0.04354 * (winPercentBefore - winPercentAfter)) - 3.1669\n",
    "    white_accuracies = []\n",
    "    black_accuracies = []\n",
    "    for i in range(len(white_win_percentages)-1):\n",
    "        #100.03072339664806 * exp(-0.10082980372791278 * x) + -0.030767264030683358\n",
    "        if i%2 == 0:\n",
    "            win_delta = white_win_percentages[i] - white_win_percentages[i+1]\n",
    "            if win_delta <= 0:\n",
    "                white_accuracies.append(100)\n",
    "            else:\n",
    "                accuracy = 100.0307234 * np.exp(-0.1008298 * (win_delta)) - 0.03076726\n",
    "                white_accuracies.append(accuracy)\n",
    "        else:\n",
    "            win_delta = black_win_percentages[i] - black_win_percentages[i+1]\n",
    "            if win_delta <= 0:\n",
    "                black_accuracies.append(100)\n",
    "            else:\n",
    "                accuracy = 100.0307234 * np.exp(-0.1008298 * (win_delta)) - 0.03076726\n",
    "                black_accuracies.append(accuracy)\n",
    "\n",
    "    return np.mean(white_accuracies), np.mean(black_accuracies)"
   ]
  },
  {
   "cell_type": "code",
   "execution_count": 54,
   "metadata": {},
   "outputs": [],
   "source": [
    "def calculate_material(board: chess.Board):\n",
    "    white_material = 0\n",
    "    black_material = 0\n",
    "    for square in chess.SQUARES:\n",
    "        piece = board.piece_at(square)\n",
    "        if piece is not None:\n",
    "            if piece.color == True:\n",
    "                white_material += piece.piece_type\n",
    "            else:\n",
    "                black_material += piece.piece_type\n",
    "\n",
    "    return white_material, black_material"
   ]
  },
  {
   "cell_type": "code",
   "execution_count": 55,
   "metadata": {},
   "outputs": [],
   "source": [
    "def get_development(board: chess.Board):\n",
    "    white_dev = 0\n",
    "    black_dev = 0\n",
    "\n",
    "    for square in [chess.A1, chess.H1]:\n",
    "        if str(board.piece_at(square)) != 'R':\n",
    "            white_dev += 1\n",
    "\n",
    "    for square in [chess.B1, chess.G1]:\n",
    "        if str(board.piece_at(square)) != 'N':\n",
    "            white_dev += 1\n",
    "\n",
    "    for square in [chess.C1, chess.F1]:\n",
    "        if str(board.piece_at(square)) != 'B':\n",
    "            white_dev += 1\n",
    "\n",
    "    if str(board.piece_at(chess.D1)) != 'Q':\n",
    "        white_dev += 1\n",
    "\n",
    "    for square in [chess.A8, chess.H8]:\n",
    "        if str(board.piece_at(square)) != 'r':\n",
    "            black_dev += 1\n",
    "\n",
    "    for square in [chess.B8, chess.G8]:\n",
    "        if str(board.piece_at(square)) != 'n':\n",
    "            black_dev += 1\n",
    "\n",
    "    for square in [chess.C8, chess.F8]:\n",
    "        if str(board.piece_at(square)) != 'b':\n",
    "            black_dev += 1\n",
    "\n",
    "    if str(board.piece_at(chess.D8)) != 'q':\n",
    "        black_dev += 1\n",
    "\n",
    "    return white_dev, black_dev"
   ]
  },
  {
   "cell_type": "code",
   "execution_count": 56,
   "metadata": {},
   "outputs": [],
   "source": [
    "def get_tension(board):\n",
    "    player_tension = sum(1 for move in board.legal_moves if board.is_capture(move))\n",
    "    board.push(chess.Move.null())  # Make a null move to switch turns\n",
    "    opponent_tension = sum(1 for move in board.legal_moves if board.is_capture(move))\n",
    "    board.pop()  # Undo the null move\n",
    "\n",
    "    if board.turn == True:\n",
    "        return player_tension, opponent_tension\n",
    "    else:\n",
    "        return opponent_tension, player_tension"
   ]
  },
  {
   "cell_type": "code",
   "execution_count": 57,
   "metadata": {},
   "outputs": [],
   "source": [
    "def get_mobility(board):\n",
    "    player_mobility = sum(1 for move in board.legal_moves if str(board.piece_at(move.from_square)).lower() != 'p')\n",
    "    board.push(chess.Move.null())  # Make a null move to switch turns\n",
    "    opponent_mobility = sum(1 for move in board.legal_moves if str(board.piece_at(move.from_square)).lower() != 'p')\n",
    "    board.pop()  # Undo the null move\n",
    "\n",
    "    if board.turn == True:\n",
    "        return player_mobility, opponent_mobility  # white, black\n",
    "    else:\n",
    "        return opponent_mobility, player_mobility  # white, black"
   ]
  },
  {
   "cell_type": "code",
   "execution_count": 58,
   "metadata": {},
   "outputs": [],
   "source": [
    "def get_control(board: chess.Board):\n",
    "    white_control = 0\n",
    "    black_control = 0\n",
    "    for square in chess.SQUARES:\n",
    "        piece = board.piece_at(square)\n",
    "        if piece is not None:\n",
    "            if piece.color == True:\n",
    "                white_control += len(board.attacks(square))\n",
    "            else:\n",
    "                black_control += len(board.attacks(square))\n",
    "\n",
    "    return white_control, black_control"
   ]
  },
  {
   "cell_type": "code",
   "execution_count": 59,
   "metadata": {},
   "outputs": [],
   "source": [
    "def calculate_metrics(fens):\n",
    "\n",
    "    devs = []\n",
    "    mobs = []\n",
    "    tens = []\n",
    "    conts = []\n",
    "\n",
    "    for fen in fens:\n",
    "        board = chess.Board(fen)\n",
    "        devs.append(list(get_development(board)))\n",
    "        mobs.append(list(get_mobility(board)))\n",
    "        tens.append(list(get_tension(board)))\n",
    "        conts.append(list(get_control(board)))\n",
    "\n",
    "    return devs, mobs, tens, conts"
   ]
  },
  {
   "cell_type": "markdown",
   "metadata": {},
   "source": [
    "## Testing"
   ]
  },
  {
   "cell_type": "code",
   "execution_count": 60,
   "metadata": {},
   "outputs": [],
   "source": [
    "piece_dict = {\n",
    "    'k': 'King',\n",
    "    'n': 'Knight',\n",
    "    'q': 'Queen',\n",
    "    'r': 'Rook',\n",
    "    'p': 'Pawn',\n",
    "    'b': 'Bishop'\n",
    "}"
   ]
  },
  {
   "cell_type": "code",
   "execution_count": 61,
   "metadata": {},
   "outputs": [],
   "source": [
    "def review_move(board: chess.Board, move, previous_review: str, check_if_opening=False):\n",
    "    def format_item_list(items):\n",
    "        if len(items) == 0:\n",
    "            return \"\"\n",
    "\n",
    "        if len(items) == 1:\n",
    "            return items[0]\n",
    "\n",
    "        formatted_items = \", \".join(items[:-1]) + \", and \" + items[-1]\n",
    "        return formatted_items\n",
    "\n",
    "    position_after_move = board.copy()\n",
    "    position_after_move.push(move)\n",
    "    \n",
    "    review = ''\n",
    "\n",
    "    best_move = get_best_move(board)\n",
    "\n",
    "    if check_if_opening:\n",
    "        opening = search_opening(openings_df, get_board_pgn(position_after_move))\n",
    "        if opening is not None:\n",
    "            review = f'This is a book move. The opening is called {opening}. '\n",
    "            return 'book', review, best_move, board.san(best_move)\n",
    "    \n",
    "    move_classication = classify_move(board, move)\n",
    "\n",
    "    if move_classication in ['excellent', 'good']:\n",
    "\n",
    "        if move == best_move:\n",
    "            move_classication = \"best\"\n",
    "            \n",
    "        review += f'{board.san(move)} is {move_classication}. '\n",
    "        \n",
    "        trade = False\n",
    "\n",
    "        if is_possible_trade(board, move) and not move_is_discovered_check(board, move):\n",
    "            if board.is_capture(move):\n",
    "                review += 'This is a trade. '\n",
    "            else:\n",
    "                review += 'This offers a trade. '\n",
    "            trade = True\n",
    "\n",
    "        defended_pieces = move_defends_hanging_piece(board, move, return_list_defended=True)\n",
    "        defended_squares = [chess.square_name(s) for s in defended_pieces]\n",
    "        defended_pieces = [piece_dict[str(board.piece_at(s)).lower()] for s in defended_pieces]\n",
    "\n",
    "        if 'King' in defended_pieces:\n",
    "            ki = defended_pieces.index('King')\n",
    "            del defended_pieces[ki]\n",
    "            del defended_squares[ki]\n",
    "\n",
    "        if (len(defended_pieces) > 0) and (trade == False):\n",
    "            \n",
    "            review += f'This defends a {format_item_list(defended_pieces)} on {format_item_list(defended_squares)}. '\n",
    "\n",
    "        possible_forked_squares = move_creates_fork(board, move, return_forked_squares=True)\n",
    "        if len(possible_forked_squares) >= 2:\n",
    "            forked_pieces = [piece_dict[str(board.piece_at(s)).lower()] for s in possible_forked_squares]\n",
    "            review += f'This creates a fork on {format_item_list(forked_pieces)}. '\n",
    "        else:\n",
    "            possible_attakced_piece = move_attacks_piece(board, move, return_attacked_piece=True)\n",
    "            if possible_attakced_piece is not False:\n",
    "                review += f'This attacks the {piece_dict[str(possible_attakced_piece).lower()]}. '\n",
    "\n",
    "\n",
    "        if move_blocks_check(board, move):\n",
    "            review += f'This blocks a check to the king with a piece. '\n",
    "\n",
    "        developing = is_developing_move(board, move)\n",
    "        if developing is not False:\n",
    "            review += f'This develops a {piece_dict[developing.lower()]}. '\n",
    "        \n",
    "        if is_fianchetto(board, move):\n",
    "            review += 'This fianchettos the bishop by putting it on a powerful diagonal. '\n",
    "\n",
    "        if move_pins_opponent(board, move):\n",
    "            review += 'This pins a piece of the opponent to their king. '\n",
    "\n",
    "        if moves_rook_to_open_file(board, move):\n",
    "            review += \"By placing the rook on an open file, it controls important columns. \"\n",
    "\n",
    "        if is_endgame(board):\n",
    "            if move_moves_king_off_backrank(board, move):\n",
    "                review += \"By moving the king off the back rank, the risk of back rank mate threats is reduced and improve the king's safety. \"\n",
    "\n",
    "        if move_wins_tempo(board, move):\n",
    "            review += 'This move gains a tempo. '\n",
    "\n",
    "        if 'trade' not in previous_review:\n",
    "\n",
    "            if move_captures_higher_piece(board, move):\n",
    "                review += f'This captures a higher value piece. '\n",
    "\n",
    "            if 'higher value piece' not in previous_review:\n",
    "                if move_captures_free_piece(board, move):\n",
    "                    review += f'This captures a free {piece_dict[str(board.piece_at(move.to_square)).lower()]}. '\n",
    "\n",
    "        attacked_squares_with_check = move_is_discovered_check_and_attacks(board, move, return_attacked_squares=True)\n",
    "        if len(attacked_squares_with_check) > 0:\n",
    "            attacked_pieces_with_check = [board.piece_at(s) for s in attacked_squares_with_check]\n",
    "            attacked_pieces_with_check = [piece_dict[str(p).lower()] for p in attacked_pieces_with_check]\n",
    "            review += f'This creates a discovered check whilst attacking a {format_item_list(attacked_pieces_with_check)}. '\n",
    "\n",
    "        trapped_squares = move_traps_opponents_piece(board, move, return_trapped_squares=True)\n",
    "        if len(trapped_squares) > 0:\n",
    "            trapped_pieces = [board.piece_at(s) for s in trapped_squares]\n",
    "            trapped_pieces = [piece_dict[str(p).lower()] for p in trapped_pieces]\n",
    "            review += f'This traps a {format_item_list(trapped_pieces)}. '\n",
    "\n",
    "        if is_possible_sacrifice(board, move):\n",
    "            #if move_classication != 'good':\n",
    "            move_classication = 'brilliant'\n",
    "            review = review.replace('best', 'brilliant')\n",
    "            review = review.replace('good', 'brilliant')\n",
    "            review = review.replace('excellent', 'brilliant')\n",
    "            review += f'This sacrifices the {piece_dict[str(board.piece_at(move.from_square)).lower()]}. '\n",
    "\n",
    "        if move_threatens_mate(board, move):\n",
    "            review += 'This creates a checkmate threat. '\n",
    "\n",
    "\n",
    "    elif move_classication in ['inaccuracy', 'mistake', 'blunder']:\n",
    "\n",
    "        review += f'{board.san(move)} is {move_classication}. '\n",
    "\n",
    "        possible_hanging_squares = []\n",
    "        if ('creates a fork' not in previous_review) or (not board.is_check()) or ('trade' not in previous_review) or ('lower value' not in previous_review):\n",
    "            possible_hanging_squares = move_hangs_piece(board, move, return_hanging_squares=True)\n",
    "\n",
    "            if is_possible_trade(board, move):\n",
    "                if move.to_square in possible_hanging_squares:\n",
    "                    del possible_hanging_squares[possible_hanging_squares.index(move.to_square)]\n",
    "\n",
    "            possible_hanging_squares = [s for s in possible_hanging_squares if position_after_move.piece_at(s).color == board.turn]\n",
    "            if len(possible_hanging_squares) > 0:\n",
    "                hanging_squares = [chess.square_name(s) for s in possible_hanging_squares]\n",
    "                hanging_pieces = [piece_dict[str(position_after_move.piece_at(s)).lower()] for s in possible_hanging_squares]\n",
    "                review += f'This move leaves {format_item_list(hanging_pieces)} hanging on {format_item_list(hanging_squares)}. '\n",
    "\n",
    "        capturable_pieces_by_lower = check_for_capturable_pieces_by_lower(position_after_move)\n",
    "        capturable_pieces_by_lower = [s for s in capturable_pieces_by_lower if s not in possible_hanging_squares]\n",
    "\n",
    "        if (len(capturable_pieces_by_lower) > 0) and (not position_after_move.is_check())  and (not is_possible_trade(board, move)):\n",
    "            capturable_pieces_by_lower = [piece_dict[str(position_after_move.piece_at(s)).lower()] for s in capturable_pieces_by_lower]\n",
    "            review += f'A {format_item_list(capturable_pieces_by_lower)} can be captured by a lower value piece. '\n",
    "\n",
    "        possible_forking_moves = move_allows_fork(board, move, return_forking_moves=True)\n",
    "        \n",
    "        if get_best_move(position_after_move) in possible_forking_moves:\n",
    "            review += 'This move leaves pieces vulnerable to a fork. '\n",
    "\n",
    "        missed_forks = move_misses_fork(board, move, return_forking_moves=True)\n",
    "        if (best_move in missed_forks) and (move != best_move):\n",
    "            review += f'There was a missed fork with {board.san(best_move)}. '\n",
    "\n",
    "        missed_pins = move_misses_pin(board, move, return_pin_move=True)\n",
    "        if (best_move in missed_pins) and (move != best_move):\n",
    "            review += f\"There was a missed pin in the previous move with {board.san(best_move)}. \"\n",
    "\n",
    "        missed_free_captures = move_misses_free_piece(board, move, return_free_captures=True)\n",
    "        if len(missed_free_captures) > 0:\n",
    "            if (best_move in missed_free_captures) and (move != best_move):\n",
    "                review += f\"An opportunity to take a {piece_dict[str(board.piece_at(best_move.to_square)).lower()]} was lost. \"\n",
    "\n",
    "        lets_opponent_play_move = get_best_move(position_after_move)\n",
    "\n",
    "        if move_threatens_mate(board, best_move):\n",
    "            review += 'This misses an opportunity to create a checkmate threat. '\n",
    "\n",
    "        missed_attacked_piece = move_attacks_piece(board, best_move, return_attacked_piece=True)\n",
    "        if missed_attacked_piece is not False:\n",
    "            review += f'A chance to attack a {piece_dict[str(missed_attacked_piece).lower()]} with {board.san(best_move)} was missed. '\n",
    "\n",
    "        if move_attacks_piece(position_after_move, lets_opponent_play_move):\n",
    "            review += f'This permits the opponent to attack a piece. '\n",
    "\n",
    "        attacked_squares_with_check = move_is_discovered_check_and_attacks(position_after_move, lets_opponent_play_move, return_attacked_squares=True)\n",
    "        if len(attacked_squares_with_check) > 0:\n",
    "            attacked_pieces_with_check = [position_after_move.piece_at(s) for s in attacked_squares_with_check]\n",
    "            attacked_pieces_with_check = [piece_dict[str(p).lower()] for p in attacked_pieces_with_check]\n",
    "            review += f'This lets the opponent win a {format_item_list(attacked_pieces_with_check)} from a discovered check. '\n",
    "\n",
    "        missed_attacked_squares_with_check = move_is_discovered_check_and_attacks(board, best_move, return_attacked_squares=True)\n",
    "        if len(missed_attacked_squares_with_check) > 0:\n",
    "            missed_attacked_pieces_with_check = [board.piece_at(s) for s in missed_attacked_squares_with_check]\n",
    "            missed_attacked_pieces_with_check = [piece_dict[str(p).lower()] for p in missed_attacked_pieces_with_check]\n",
    "            review += f'This looses a chance to attack a {format_item_list(missed_attacked_pieces_with_check)} from a discovered check. '\n",
    "\n",
    "        if not (len(attacked_squares_with_check) > 0):\n",
    "            trapped_squares = move_traps_opponents_piece(position_after_move, lets_opponent_play_move, return_trapped_squares=True)\n",
    "            if len(trapped_squares) > 0:\n",
    "                trapped_pieces = [position_after_move.piece_at(s) for s in trapped_squares]\n",
    "                trapped_pieces = [piece_dict[str(p).lower()] for p in trapped_pieces]\n",
    "                review += f'This allows a {format_item_list(trapped_pieces)} to be trapped. '\n",
    "\n",
    "        missed_trapped_squares = move_traps_opponents_piece(board, best_move, return_trapped_squares=True)\n",
    "        if len(missed_trapped_squares) > 0:\n",
    "            missed_trapped_pieces = [board.piece_at(s) for s in missed_trapped_squares]\n",
    "            missed_trapped_pieces = [piece_dict[str(p).lower()] for p in missed_trapped_pieces]\n",
    "            review += f'This looses a chance to trap a {format_item_list(missed_trapped_pieces)}. '\n",
    "\n",
    "        if move_wins_tempo(position_after_move, lets_opponent_play_move):\n",
    "            review += f'The opponent can win a tempo. '\n",
    "\n",
    "        review += f\"The opponent can play {position_after_move.san(lets_opponent_play_move)}. \"\n",
    "\n",
    "    elif 'continues gets mated' in move_classication:\n",
    "        losing_side = 'White' if board.turn else 'Black'\n",
    "        review += f\"{board.san(move)} is good, but {losing_side} will still get checkmated. {losing_side} gets mated in {move_classication[-1]}.\"\n",
    "        if move == best_move:\n",
    "            move_classication = \"best\"\n",
    "        else:\n",
    "            move_classication = 'good'\n",
    "\n",
    "    elif 'gets mated' in move_classication:\n",
    "        lets_opponent_play_move = get_best_move(position_after_move)\n",
    "\n",
    "        losing_side = 'White' if board.turn else 'Black'\n",
    "        review += f'The opponent can play {position_after_move.san(lets_opponent_play_move)}. '\n",
    "        review += f\"{board.san(move)} is a blunder and allows checkmate. {losing_side} gets mated in {move_classication[-1]}.\"\n",
    "\n",
    "        move_classication = 'blunder'\n",
    "    \n",
    "    elif 'lost mate' in move_classication:\n",
    "        lets_opponent_play_move = get_best_move(position_after_move)\n",
    "        review += f\"This loses the checkmate sequence. The opponent can play {position_after_move.san(lets_opponent_play_move)}. \"\n",
    "        move_classication = 'blunder'\n",
    "\n",
    "    elif 'mates' in move_classication:\n",
    "        n = previous_review[-2] # ex. \"White gets mated in 6.\" we need the number 6\n",
    "        if n.isdigit(): # means that player is continuing checkmate sequence\n",
    "\n",
    "            if int(move_classication[-1]) <= int(n): # means player is one move less away from mating\n",
    "                winning_side = 'White' if board.turn else 'Black'\n",
    "                if int(move_classication[-1]) == 0:\n",
    "                    review += f\"Checkmate!\"\n",
    "                else:\n",
    "                    review += f\"{board.san(move)} continues the checkmate sequence. {winning_side} gets mated in {move_classication[-1]}.\"\n",
    "            \n",
    "            else:\n",
    "                winning_side = 'White' if board.turn else 'Black'\n",
    "                review += f\"{board.san(move)} is good, but there was a faster way to checkmate. {winning_side} gets mated in {move_classication[-1]}.\"\n",
    "                move_classication = 'good'\n",
    "\n",
    "            if move == best_move:\n",
    "                move_classication = \"best\"\n",
    "\n",
    "\n",
    "    return move_classication, review, best_move, board.san(best_move)"
   ]
  },
  {
   "cell_type": "code",
   "execution_count": 62,
   "metadata": {},
   "outputs": [],
   "source": [
    "def roast_move(board: chess.Board, move, previous_review: str, check_if_opening=False):\n",
    "    def format_item_list(items):\n",
    "        if len(items) == 0:\n",
    "            return \"\"\n",
    "\n",
    "        if len(items) == 1:\n",
    "            return items[0]\n",
    "\n",
    "        formatted_items = \", \".join(items[:-1]) + \", and \" + items[-1]\n",
    "        return formatted_items\n",
    "\n",
    "    position_after_move = board.copy()\n",
    "    position_after_move.push(move)\n",
    "    \n",
    "    review = ''\n",
    "\n",
    "    best_move = get_best_move(board)\n",
    "\n",
    "    if check_if_opening:\n",
    "        opening = search_opening(openings_df, get_board_pgn(position_after_move))\n",
    "        if opening is not None:\n",
    "            review = f'This is a book move. The opening is called {opening}. '\n",
    "            return 'book', review, best_move, board.san(best_move)\n",
    "    \n",
    "    move_classication = classify_move(board, move)\n",
    "\n",
    "    if move_classication in ['excellent', 'good']:\n",
    "\n",
    "        if move == best_move:\n",
    "            move_classication = \"best\"\n",
    "            \n",
    "        review += f'{board.san(move)} is {move_classication}. '\n",
    "        \n",
    "        trade = False\n",
    "\n",
    "        if is_possible_trade(board, move) and not move_is_discovered_check(board, move):\n",
    "            if board.is_capture(move):\n",
    "                review += 'This is a trade. '\n",
    "            else:\n",
    "                review += 'This offers a trade. '\n",
    "            trade = True\n",
    "\n",
    "        defended_pieces = move_defends_hanging_piece(board, move, return_list_defended=True)\n",
    "        defended_squares = [chess.square_name(s) for s in defended_pieces]\n",
    "        defended_pieces = [piece_dict[str(board.piece_at(s)).lower()] for s in defended_pieces]\n",
    "\n",
    "        if 'King' in defended_pieces:\n",
    "            ki = defended_pieces.index('King')\n",
    "            del defended_pieces[ki]\n",
    "            del defended_squares[ki]\n",
    "\n",
    "        if (len(defended_pieces) > 0) and (trade == False):\n",
    "            \n",
    "            review += f'This defends a {format_item_list(defended_pieces)} on {format_item_list(defended_squares)}. '\n",
    "\n",
    "        possible_forked_squares = move_creates_fork(board, move, return_forked_squares=True)\n",
    "        if len(possible_forked_squares) >= 2:\n",
    "            forked_pieces = [piece_dict[str(board.piece_at(s)).lower()] for s in possible_forked_squares]\n",
    "            review += f'This creates a fork on {format_item_list(forked_pieces)}. '\n",
    "        else:\n",
    "            possible_attakced_piece = move_attacks_piece(board, move, return_attacked_piece=True)\n",
    "            if possible_attakced_piece is not False:\n",
    "                review += f'This attacks the {piece_dict[str(possible_attakced_piece).lower()]}. '\n",
    "\n",
    "\n",
    "        if move_blocks_check(board, move):\n",
    "            review += f'This blocks a check to the king with a piece. '\n",
    "\n",
    "        developing = is_developing_move(board, move)\n",
    "        if developing is not False:\n",
    "            review += f'This develops a {piece_dict[developing.lower()]}. '\n",
    "        \n",
    "        if is_fianchetto(board, move):\n",
    "            review += 'This fianchettos the bishop by putting it on a powerful diagonal. '\n",
    "\n",
    "        if move_pins_opponent(board, move):\n",
    "            review += 'This pins a piece of the opponent to their king. '\n",
    "\n",
    "        if moves_rook_to_open_file(board, move):\n",
    "            review += \"By placing the rook on an open file, it controls important columns. \"\n",
    "\n",
    "        if is_endgame(board):\n",
    "            if move_moves_king_off_backrank(board, move):\n",
    "                review += \"By moving the king off the back rank, the risk of back rank mate threats is reduced and improve the king's safety. \"\n",
    "\n",
    "        if move_wins_tempo(board, move):\n",
    "            review += 'This move gains a tempo. '\n",
    "\n",
    "        if 'trade' not in previous_review:\n",
    "\n",
    "            if move_captures_higher_piece(board, move):\n",
    "                review += f'This captures a higher value piece. '\n",
    "\n",
    "            if 'higher value piece' not in previous_review:\n",
    "                if move_captures_free_piece(board, move):\n",
    "                    review += f'This captures a free {piece_dict[str(board.piece_at(move.to_square)).lower()]}. '\n",
    "\n",
    "        attacked_squares_with_check = move_is_discovered_check_and_attacks(board, move, return_attacked_squares=True)\n",
    "        if len(attacked_squares_with_check) > 0:\n",
    "            attacked_pieces_with_check = [board.piece_at(s) for s in attacked_squares_with_check]\n",
    "            attacked_pieces_with_check = [piece_dict[str(p).lower()] for p in attacked_pieces_with_check]\n",
    "            review += f'This creates a discovered check whilst attacking a {format_item_list(attacked_pieces_with_check)}. '\n",
    "\n",
    "        trapped_squares = move_traps_opponents_piece(board, move, return_trapped_squares=True)\n",
    "        if len(trapped_squares) > 0:\n",
    "            trapped_pieces = [board.piece_at(s) for s in trapped_squares]\n",
    "            trapped_pieces = [piece_dict[str(p).lower()] for p in trapped_pieces]\n",
    "            review += f'This traps a {format_item_list(trapped_pieces)}. '\n",
    "\n",
    "        if is_possible_sacrifice(board, move):\n",
    "            #if move_classication != 'good':\n",
    "            move_classication = 'brilliant'\n",
    "            review = review.replace('best', 'brilliant')\n",
    "            review = review.replace('good', 'brilliant')\n",
    "            review = review.replace('excellent', 'brilliant')\n",
    "            review += f'This sacrifices the {piece_dict[str(board.piece_at(move.from_square)).lower()]}. '\n",
    "\n",
    "        if move_threatens_mate(board, move):\n",
    "            review += 'This creates a checkmate threat. '\n",
    "\n",
    "\n",
    "    elif move_classication in ['inaccuracy', 'mistake', 'blunder']:\n",
    "\n",
    "        review += f'{board.san(move)} is {move_classication}. '\n",
    "\n",
    "        possible_hanging_squares = []\n",
    "        if ('creates a fork' not in previous_review) or (not board.is_check()) or ('trade' not in previous_review) or ('lower value' not in previous_review):\n",
    "            possible_hanging_squares = move_hangs_piece(board, move, return_hanging_squares=True)\n",
    "\n",
    "            if is_possible_trade(board, move):\n",
    "                if move.to_square in possible_hanging_squares:\n",
    "                    del possible_hanging_squares[possible_hanging_squares.index(move.to_square)]\n",
    "\n",
    "            possible_hanging_squares = [s for s in possible_hanging_squares if position_after_move.piece_at(s).color == board.turn]\n",
    "            if len(possible_hanging_squares) > 0:\n",
    "                hanging_squares = [chess.square_name(s) for s in possible_hanging_squares]\n",
    "                hanging_pieces = [piece_dict[str(position_after_move.piece_at(s)).lower()] for s in possible_hanging_squares]\n",
    "                review += f'This IS SO STUPID. {format_item_list(hanging_pieces)} is fucking hanging on {format_item_list(hanging_squares)}. '\n",
    "\n",
    "        capturable_pieces_by_lower = check_for_capturable_pieces_by_lower(position_after_move)\n",
    "        capturable_pieces_by_lower = [s for s in capturable_pieces_by_lower if s not in possible_hanging_squares]\n",
    "\n",
    "        if (len(capturable_pieces_by_lower) > 0) and (not position_after_move.is_check()) and (not is_possible_trade(board, move)):\n",
    "            capturable_pieces_by_lower = [piece_dict[str(position_after_move.piece_at(s)).lower()] for s in capturable_pieces_by_lower]\n",
    "            review += f'A lower value is piece just STARING at {format_item_list(capturable_pieces_by_lower)}. How the fuck can you let that happen? '\n",
    "\n",
    "        possible_forking_moves = move_allows_fork(board, move, return_forking_moves=True)\n",
    "        \n",
    "        if get_best_move(position_after_move) in possible_forking_moves:\n",
    "            review += 'Forky forky forky YOU CAN GET FORKED YOU DUMBASS! '\n",
    "\n",
    "        missed_forks = move_misses_fork(board, move, return_forking_moves=True)\n",
    "        if (best_move in missed_forks) and (move != best_move):\n",
    "            review += f'Are you blind? You could have forked with {board.san(best_move)}. Smh. '\n",
    "\n",
    "        missed_pins = move_misses_pin(board, move, return_pin_move=True)\n",
    "        if (best_move in missed_pins) and (move != best_move):\n",
    "            review += f\"Just another missed pin with {board.san(best_move)} because of stupidity. \"\n",
    "\n",
    "        missed_free_captures = move_misses_free_piece(board, move, return_free_captures=True)\n",
    "        if len(missed_free_captures) > 0:\n",
    "            if (best_move in missed_free_captures) and (move != best_move):\n",
    "                review += f\"Can this get any more annoying? You could have taken a {piece_dict[str(board.piece_at(best_move.to_square)).lower()]}. \"\n",
    "\n",
    "        lets_opponent_play_move = get_best_move(position_after_move)\n",
    "\n",
    "        if move_threatens_mate(board, best_move):\n",
    "            review += \"Is this person trying to lose? They could've threatened a fucking forced checkmate. \"\n",
    "\n",
    "        missed_attacked_piece = move_attacks_piece(board, best_move, return_attacked_piece=True)\n",
    "        if missed_attacked_piece is not False:\n",
    "            review += f'This missed attacking {piece_dict[str(missed_attacked_piece).lower()]} with {board.san(best_move)} because they were too pussy. '\n",
    "\n",
    "        if move_attacks_piece(position_after_move, lets_opponent_play_move):\n",
    "            review += f\"You're just asking the opponent to attack one of your pieces. \"\n",
    "\n",
    "        attacked_squares_with_check = move_is_discovered_check_and_attacks(position_after_move, lets_opponent_play_move, return_attacked_squares=True)\n",
    "        if len(attacked_squares_with_check) > 0:\n",
    "            attacked_pieces_with_check = [position_after_move.piece_at(s) for s in attacked_squares_with_check]\n",
    "            attacked_pieces_with_check = [piece_dict[str(p).lower()] for p in attacked_pieces_with_check]\n",
    "            review += f'This dumbass looses a {format_item_list(attacked_pieces_with_check)} from a discovered check. '\n",
    "\n",
    "        missed_attacked_squares_with_check = move_is_discovered_check_and_attacks(board, best_move, return_attacked_squares=True)\n",
    "        if len(missed_attacked_squares_with_check) > 0:\n",
    "            missed_attacked_pieces_with_check = [board.piece_at(s) for s in missed_attacked_squares_with_check]\n",
    "            missed_attacked_pieces_with_check = [piece_dict[str(p).lower()] for p in missed_attacked_pieces_with_check]\n",
    "            review += f'Understandable that a moron would lose a chance to attack a {format_item_list(missed_attacked_pieces_with_check)} from a discovered check. '\n",
    "\n",
    "        if not (len(attacked_squares_with_check) > 0):\n",
    "            trapped_squares = move_traps_opponents_piece(position_after_move, lets_opponent_play_move, return_trapped_squares=True)\n",
    "            if len(trapped_squares) > 0:\n",
    "                trapped_pieces = [position_after_move.piece_at(s) for s in trapped_squares]\n",
    "                trapped_pieces = [piece_dict[str(p).lower()] for p in trapped_pieces]\n",
    "                review += f\"That's so hilarious! A {format_item_list(trapped_pieces)} can get trapped. \"\n",
    "\n",
    "        missed_trapped_squares = move_traps_opponents_piece(board, best_move, return_trapped_squares=True)\n",
    "        if len(missed_trapped_squares) > 0:\n",
    "            missed_trapped_pieces = [board.piece_at(s) for s in missed_trapped_squares]\n",
    "            missed_trapped_pieces = [piece_dict[str(p).lower()] for p in missed_trapped_pieces]\n",
    "            review += f\"Why did you let a {format_item_list(missed_trapped_pieces)} escape?? You could've trapped them you dumb fuck. \"\n",
    "\n",
    "        if move_wins_tempo(position_after_move, lets_opponent_play_move):\n",
    "            review += f'Sigh. You just let the opponent win a tempo. '\n",
    "\n",
    "        review += f\"The opponent can play {position_after_move.san(lets_opponent_play_move)}. \"\n",
    "\n",
    "    elif 'continues gets mated' in move_classication:\n",
    "        losing_side = 'White' if board.turn else 'Black'\n",
    "        review += f\"{board.san(move)} is good, but {losing_side} will still get checkmated. {losing_side} gets mated in {move_classication[-1]}.\"\n",
    "        if move == best_move:\n",
    "            move_classication = \"best\"\n",
    "        else:\n",
    "            move_classication = 'good'\n",
    "\n",
    "    elif 'gets mated' in move_classication:\n",
    "        lets_opponent_play_move = get_best_move(position_after_move)\n",
    "\n",
    "        losing_side = 'White' if board.turn else 'Black'\n",
    "        review += f'The opponent can play {position_after_move.san(lets_opponent_play_move)}. '\n",
    "        review += f\"{board.san(move)} is a blunder. You tryna sacrifice the game? {losing_side} gets mated in {move_classication[-1]}.\"\n",
    "\n",
    "        move_classication = 'blunder'\n",
    "    \n",
    "    elif 'lost mate' in move_classication:\n",
    "        lets_opponent_play_move = get_best_move(position_after_move)\n",
    "        review += f\"You were winning! Why did you do that? I guess that's expected for a someone with a small brain to lose a checkmate sequence. The opponent can play {position_after_move.san(lets_opponent_play_move)}. \"\n",
    "        move_classication = 'blunder'\n",
    "\n",
    "    elif 'mates' in move_classication:\n",
    "        n = previous_review[-2] # ex. \"White gets mated in 6.\" we need the number 6\n",
    "        if n.isdigit(): # means that player is continuing checkmate sequence\n",
    "\n",
    "            if int(move_classication[-1]) <= int(n): # means player is one move less away from mating\n",
    "                winning_side = 'White' if board.turn else 'Black'\n",
    "                if int(move_classication[-1]) == 0:\n",
    "                    review += f\"Checkmate!\"\n",
    "                else:\n",
    "                    review += f\"{board.san(move)} continues the checkmate sequence. {winning_side} gets mated in {move_classication[-1]}.\"\n",
    "            \n",
    "            else:\n",
    "                winning_side = 'White' if board.turn else 'Black'\n",
    "                review += f\"{board.san(move)} is good, but there was a faster way to checkmate. {winning_side} gets mated in {move_classication[-1]}.\"\n",
    "                move_classication = 'good'\n",
    "\n",
    "            if move == best_move:\n",
    "                move_classication = \"best\"\n",
    "\n",
    "\n",
    "    return move_classication, review, best_move, board.san(best_move)"
   ]
  },
  {
   "cell_type": "markdown",
   "metadata": {},
   "source": [
    "To-do\n",
    "\n",
    "- add \"this threatens a fork\""
   ]
  },
  {
   "cell_type": "code",
   "execution_count": 63,
   "metadata": {},
   "outputs": [],
   "source": [
    "test_pgn = '''1. d4 d5 2. Nf3 Nc6 3. Bf4 Qd7 4. e3 f6 5. Nc3 e5 6. dxe5 fxe5 7. Nxe5 Nxe5 8.\n",
    "Bxe5 Bd6 9. Bxd6 Qxd6 10. Qe2 Nf6 11. e4 O-O 12. Nxd5 Nxd5 13. exd5 Qxd5 14. Qg4\n",
    "g6 15. Bc4 Qf7 16. Qe4 Re8 17. Qxe8+ Kg7 18. Qxf7+ 1-0'''\n",
    "\n",
    "\n",
    "uci_moves, san_moves, fens = parse_pgn(test_pgn)"
   ]
  },
  {
   "cell_type": "code",
   "execution_count": 64,
   "metadata": {},
   "outputs": [],
   "source": [
    "def get_board_pgn(board: chess.Board):\n",
    "    game = chess.pgn.Game()\n",
    "    node = game\n",
    "\n",
    "    # Replay all moves.\n",
    "    for move in board.move_stack:\n",
    "        node = node.add_variation(move)\n",
    "\n",
    "    # Add game result.\n",
    "\n",
    "    return str(game.mainline_moves())"
   ]
  },
  {
   "cell_type": "code",
   "execution_count": 65,
   "metadata": {},
   "outputs": [],
   "source": [
    "board = chess.Board('r1b2rk1/ppp3pp/3q1n2/3p4/4P3/2N5/PPP1QPPP/R3KB1R w KQ - 1 12')"
   ]
  },
  {
   "cell_type": "code",
   "execution_count": 66,
   "metadata": {},
   "outputs": [],
   "source": [
    "def review_game(uci_moves, roast=False, verbose=True):\n",
    "\n",
    "    board = chess.Board()\n",
    "\n",
    "    san_best_moves = []\n",
    "    uci_best_moves = []\n",
    "\n",
    "    classification_list = []\n",
    "\n",
    "    review_list = []\n",
    "    best_review_list = []\n",
    "\n",
    "\n",
    "    for i, move in enumerate(tqdm(uci_moves)):\n",
    "\n",
    "        if i < 11:\n",
    "            check_if_opening = True\n",
    "        else:\n",
    "            check_if_opening = False\n",
    "\n",
    "        if len(review_list) == 0:\n",
    "            previous_review = None\n",
    "        else:\n",
    "            previous_review = review_list[-1]\n",
    "\n",
    "        if roast:\n",
    "            classification, review, uci_best_move, san_best_move = roast_move(board, move, previous_review, check_if_opening)\n",
    "        else:\n",
    "            classification, review, uci_best_move, san_best_move = review_move(board, move, previous_review, check_if_opening)\n",
    "        if classification not in ['book', 'best']:\n",
    "            _, best_review, _, _ = review_move(board, uci_best_move, previous_review, check_if_opening)\n",
    "        else:\n",
    "            best_review = ''\n",
    "\n",
    "        classification_list.append(classification)\n",
    "        review_list.append(review)\n",
    "        best_review_list.append(best_review)\n",
    "        uci_best_moves.append(uci_best_move)\n",
    "        san_best_moves.append(san_best_move)\n",
    "        if verbose:\n",
    "            print(move, end='')\n",
    "            print(' | ', end='')\n",
    "            print(review)\n",
    "            print('')\n",
    "            print(uci_best_move, end='')\n",
    "            print(' | ', end='')\n",
    "            print(best_review)\n",
    "            print('')\n",
    "        board.push(move)\n",
    "\n",
    "    return review_list, best_review_list, classification_list, uci_best_moves, san_best_moves"
   ]
  },
  {
   "cell_type": "code",
   "execution_count": 67,
   "metadata": {},
   "outputs": [],
   "source": [
    "def seperate_squares_in_move_list(uci_moves: list):\n",
    "    seperated_squares = []\n",
    "\n",
    "    for move in uci_moves:\n",
    "        move = str(move)\n",
    "        seperated_squares.append([move[:2], move[2:]])\n",
    "\n",
    "    return seperated_squares"
   ]
  },
  {
   "cell_type": "code",
   "execution_count": 313,
   "metadata": {},
   "outputs": [
    {
     "name": "stderr",
     "output_type": "stream",
     "text": [
      "  3%|▎         | 1/35 [00:00<00:14,  2.41it/s]"
     ]
    },
    {
     "name": "stdout",
     "output_type": "stream",
     "text": [
      "d2d4 | This is a book move. The opening is called Queen's Pawn Game. \n",
      "\n",
      "e2e4 | \n",
      "\n"
     ]
    },
    {
     "name": "stderr",
     "output_type": "stream",
     "text": [
      "  6%|▌         | 2/35 [00:00<00:13,  2.48it/s]"
     ]
    },
    {
     "name": "stdout",
     "output_type": "stream",
     "text": [
      "d7d5 | This is a book move. The opening is called Queen's Pawn Game. \n",
      "\n",
      "g8f6 | \n",
      "\n"
     ]
    },
    {
     "name": "stderr",
     "output_type": "stream",
     "text": [
      "  9%|▊         | 3/35 [00:01<00:12,  2.51it/s]"
     ]
    },
    {
     "name": "stdout",
     "output_type": "stream",
     "text": [
      "g1f3 | This is a book move. The opening is called Queen's Pawn Game: Zukertort Variation. \n",
      "\n",
      "c2c4 | \n",
      "\n"
     ]
    },
    {
     "name": "stderr",
     "output_type": "stream",
     "text": [
      " 11%|█▏        | 4/35 [00:01<00:12,  2.50it/s]"
     ]
    },
    {
     "name": "stdout",
     "output_type": "stream",
     "text": [
      "b8c6 | This is a book move. The opening is called Queen's Pawn Game: Chigorin Variation. \n",
      "\n",
      "e7e6 | \n",
      "\n"
     ]
    },
    {
     "name": "stderr",
     "output_type": "stream",
     "text": [
      "Not transmitting history with null moves to UCI engine\n",
      "Not transmitting history with null moves to UCI engine\n",
      " 14%|█▍        | 5/35 [00:04<00:42,  1.42s/it]"
     ]
    },
    {
     "name": "stdout",
     "output_type": "stream",
     "text": [
      "c1f4 | Bf4 is good. This develops a Bishop. \n",
      "\n",
      "c2c4 | c4 is best. This offers a trade. \n",
      "\n"
     ]
    },
    {
     "name": "stderr",
     "output_type": "stream",
     "text": [
      "Not transmitting history with null moves to UCI engine\n",
      "Not transmitting history with null moves to UCI engine\n",
      " 17%|█▋        | 6/35 [00:08<00:58,  2.03s/it]"
     ]
    },
    {
     "name": "stdout",
     "output_type": "stream",
     "text": [
      "d8d7 | Qd7 is good. \n",
      "\n",
      "c8g4 | Bg4 is best. This develops a Bishop. \n",
      "\n"
     ]
    },
    {
     "name": "stderr",
     "output_type": "stream",
     "text": [
      "Not transmitting history with null moves to UCI engine\n",
      "Not transmitting history with null moves to UCI engine\n",
      " 20%|██        | 7/35 [00:11<01:08,  2.46s/it]"
     ]
    },
    {
     "name": "stdout",
     "output_type": "stream",
     "text": [
      "e2e3 | e3 is excellent. This defends a Bishop on f4. \n",
      "\n",
      "c2c4 | c4 is excellent. This offers a trade. \n",
      "\n"
     ]
    },
    {
     "name": "stderr",
     "output_type": "stream",
     "text": [
      "Not transmitting history with null moves to UCI engine\n",
      "Not transmitting history with null moves to UCI engine\n",
      " 23%|██▎       | 8/35 [00:14<01:13,  2.71s/it]"
     ]
    },
    {
     "name": "stdout",
     "output_type": "stream",
     "text": [
      "f7f6 | f6 is good. \n",
      "\n",
      "e7e6 | e6 is best. \n",
      "\n"
     ]
    },
    {
     "name": "stderr",
     "output_type": "stream",
     "text": [
      "Not transmitting history with null moves to UCI engine\n",
      "Not transmitting history with null moves to UCI engine\n",
      " 26%|██▌       | 9/35 [00:17<01:15,  2.89s/it]"
     ]
    },
    {
     "name": "stdout",
     "output_type": "stream",
     "text": [
      "b1c3 | Nc3 is good. This develops a Knight. \n",
      "\n",
      "c2c4 | c4 is best. This offers a trade. \n",
      "\n"
     ]
    },
    {
     "name": "stderr",
     "output_type": "stream",
     "text": [
      "Not transmitting history with null moves to UCI engine\n",
      "Not transmitting history with null moves to UCI engine\n",
      " 29%|██▊       | 10/35 [00:21<01:21,  3.25s/it]"
     ]
    },
    {
     "name": "stdout",
     "output_type": "stream",
     "text": [
      "e7e5 | e5 is inaccuracy. The opponent can play dxe5. \n",
      "\n",
      "e7e6 | e6 is best. \n",
      "\n"
     ]
    },
    {
     "name": "stderr",
     "output_type": "stream",
     "text": [
      "Not transmitting history with null moves to UCI engine\n",
      " 31%|███▏      | 11/35 [00:23<01:05,  2.74s/it]"
     ]
    },
    {
     "name": "stdout",
     "output_type": "stream",
     "text": [
      "d4e5 | dxe5 is best. This is a trade. \n",
      "\n",
      "d4e5 | \n",
      "\n"
     ]
    },
    {
     "name": "stderr",
     "output_type": "stream",
     "text": [
      "Not transmitting history with null moves to UCI engine\n",
      "Not transmitting history with null moves to UCI engine\n",
      " 34%|███▍      | 12/35 [00:27<01:11,  3.11s/it]"
     ]
    },
    {
     "name": "stdout",
     "output_type": "stream",
     "text": [
      "f6e5 | fxe5 is good. This is a trade. This attacks the Bishop. \n",
      "\n",
      "f8b4 | Bb4 is best. This develops a Bishop. This pins a piece of the opponent to their king. \n",
      "\n"
     ]
    },
    {
     "name": "stderr",
     "output_type": "stream",
     "text": [
      "Not transmitting history with null moves to UCI engine\n",
      " 37%|███▋      | 13/35 [00:30<01:04,  2.93s/it]"
     ]
    },
    {
     "name": "stdout",
     "output_type": "stream",
     "text": [
      "f3e5 | Nxe5 is best. This attacks the Queen. This move gains a tempo. \n",
      "\n",
      "f3e5 | \n",
      "\n"
     ]
    },
    {
     "name": "stderr",
     "output_type": "stream",
     "text": [
      "Not transmitting history with null moves to UCI engine\n",
      " 40%|████      | 14/35 [00:31<00:53,  2.55s/it]"
     ]
    },
    {
     "name": "stdout",
     "output_type": "stream",
     "text": [
      "c6e5 | Nxe5 is best. This is a trade. \n",
      "\n",
      "c6e5 | \n",
      "\n"
     ]
    },
    {
     "name": "stderr",
     "output_type": "stream",
     "text": [
      "Not transmitting history with null moves to UCI engine\n",
      " 43%|████▎     | 15/35 [00:33<00:45,  2.26s/it]"
     ]
    },
    {
     "name": "stdout",
     "output_type": "stream",
     "text": [
      "f4e5 | Bxe5 is best. \n",
      "\n",
      "f4e5 | \n",
      "\n"
     ]
    },
    {
     "name": "stderr",
     "output_type": "stream",
     "text": [
      "Not transmitting history with null moves to UCI engine\n",
      "Not transmitting history with null moves to UCI engine\n",
      " 46%|████▌     | 16/35 [00:37<00:55,  2.92s/it]"
     ]
    },
    {
     "name": "stdout",
     "output_type": "stream",
     "text": [
      "f8d6 | Bd6 is inaccuracy. This move leaves Pawn hanging on d5. The opponent can play Nxd5. \n",
      "\n",
      "c7c6 | c6 is best. \n",
      "\n"
     ]
    },
    {
     "name": "stderr",
     "output_type": "stream",
     "text": [
      "Not transmitting history with null moves to UCI engine\n",
      "Not transmitting history with null moves to UCI engine\n",
      " 49%|████▊     | 17/35 [00:41<00:58,  3.24s/it]"
     ]
    },
    {
     "name": "stdout",
     "output_type": "stream",
     "text": [
      "e5d6 | Bxd6 is excellent. This is a trade. \n",
      "\n",
      "c3d5 | Nxd5 is excellent. This captures a free Pawn. \n",
      "\n"
     ]
    },
    {
     "name": "stderr",
     "output_type": "stream",
     "text": [
      "Not transmitting history with null moves to UCI engine\n",
      " 51%|█████▏    | 18/35 [00:43<00:48,  2.84s/it]"
     ]
    },
    {
     "name": "stdout",
     "output_type": "stream",
     "text": [
      "d7d6 | Qxd6 is best. This defends a Pawn on d5. \n",
      "\n",
      "d7d6 | \n",
      "\n"
     ]
    },
    {
     "name": "stderr",
     "output_type": "stream",
     "text": [
      "Not transmitting history with null moves to UCI engine\n",
      "Not transmitting history with null moves to UCI engine\n",
      " 54%|█████▍    | 19/35 [00:48<00:54,  3.38s/it]"
     ]
    },
    {
     "name": "stdout",
     "output_type": "stream",
     "text": [
      "d1e2 | Qe2 is mistake. The opponent can play c6. \n",
      "\n",
      "d1d5 | Qxd5 is best. \n",
      "\n"
     ]
    },
    {
     "name": "stderr",
     "output_type": "stream",
     "text": [
      "Not transmitting history with null moves to UCI engine\n",
      "Not transmitting history with null moves to UCI engine\n",
      " 57%|█████▋    | 20/35 [00:51<00:51,  3.45s/it]"
     ]
    },
    {
     "name": "stdout",
     "output_type": "stream",
     "text": [
      "g8f6 | Nf6 is good. This develops a Knight. \n",
      "\n",
      "c7c6 | c6 is best. \n",
      "\n"
     ]
    },
    {
     "name": "stderr",
     "output_type": "stream",
     "text": [
      "Not transmitting history with null moves to UCI engine\n",
      " 60%|██████    | 21/35 [00:53<00:41,  2.96s/it]"
     ]
    },
    {
     "name": "stdout",
     "output_type": "stream",
     "text": [
      "e3e4 | e4 is best. This offers a trade. \n",
      "\n",
      "e3e4 | \n",
      "\n"
     ]
    },
    {
     "name": "stderr",
     "output_type": "stream",
     "text": [
      "Not transmitting history with null moves to UCI engine\n",
      " 63%|██████▎   | 22/35 [00:55<00:33,  2.61s/it]"
     ]
    },
    {
     "name": "stdout",
     "output_type": "stream",
     "text": [
      "e8g8 | O-O is best. \n",
      "\n",
      "e8g8 | \n",
      "\n"
     ]
    },
    {
     "name": "stderr",
     "output_type": "stream",
     "text": [
      "Not transmitting history with null moves to UCI engine\n",
      "Not transmitting history with null moves to UCI engine\n",
      " 66%|██████▌   | 23/35 [01:00<00:41,  3.43s/it]"
     ]
    },
    {
     "name": "stdout",
     "output_type": "stream",
     "text": [
      "c3d5 | Nxd5 is inaccuracy. There was a missed fork with e5. A chance to attack a Queen with e5 was missed. The opponent can play Nxd5. \n",
      "\n",
      "e4e5 | e5 is best. This offers a trade. This creates a fork on Queen, and Knight. This move gains a tempo. \n",
      "\n"
     ]
    },
    {
     "name": "stderr",
     "output_type": "stream",
     "text": [
      "Not transmitting history with null moves to UCI engine\n",
      " 69%|██████▊   | 24/35 [01:02<00:32,  2.93s/it]"
     ]
    },
    {
     "name": "stdout",
     "output_type": "stream",
     "text": [
      "f6d5 | Nxd5 is best. This is a trade. \n",
      "\n",
      "f6d5 | \n",
      "\n"
     ]
    },
    {
     "name": "stderr",
     "output_type": "stream",
     "text": [
      "Not transmitting history with null moves to UCI engine\n",
      " 71%|███████▏  | 25/35 [01:04<00:25,  2.57s/it]"
     ]
    },
    {
     "name": "stdout",
     "output_type": "stream",
     "text": [
      "e4d5 | exd5 is best. \n",
      "\n",
      "e4d5 | \n",
      "\n"
     ]
    },
    {
     "name": "stderr",
     "output_type": "stream",
     "text": [
      "Not transmitting history with null moves to UCI engine\n",
      " 74%|███████▍  | 26/35 [01:06<00:21,  2.33s/it]"
     ]
    },
    {
     "name": "stdout",
     "output_type": "stream",
     "text": [
      "d6d5 | Qxd5 is best. This captures a free Pawn. \n",
      "\n",
      "d6d5 | \n",
      "\n"
     ]
    },
    {
     "name": "stderr",
     "output_type": "stream",
     "text": [
      "Not transmitting history with null moves to UCI engine\n",
      " 77%|███████▋  | 27/35 [01:10<00:23,  2.98s/it]"
     ]
    },
    {
     "name": "stdout",
     "output_type": "stream",
     "text": [
      "e2g4 | The opponent can play Bxg4. Qg4 is a blunder and allows checkmate. White gets mated in 4.\n",
      "\n",
      "e2b5 | Qb5 is best. This offers a trade. This attacks the Queen. This move gains a tempo. \n",
      "\n"
     ]
    },
    {
     "name": "stderr",
     "output_type": "stream",
     "text": [
      " 80%|████████  | 28/35 [01:13<00:21,  3.08s/it]"
     ]
    },
    {
     "name": "stdout",
     "output_type": "stream",
     "text": [
      "g7g6 | This loses the checkmate sequence. The opponent can play Bc4. \n",
      "\n",
      "c8g4 | Checkmate!\n",
      "\n"
     ]
    },
    {
     "name": "stderr",
     "output_type": "stream",
     "text": [
      "Not transmitting history with null moves to UCI engine\n",
      " 83%|████████▎ | 29/35 [01:16<00:17,  2.96s/it]"
     ]
    },
    {
     "name": "stdout",
     "output_type": "stream",
     "text": [
      "f1c4 | Bc4 is best. This attacks the Queen. This develops a Bishop. This pins a piece of the opponent to their king. \n",
      "\n",
      "f1c4 | \n",
      "\n"
     ]
    },
    {
     "name": "stderr",
     "output_type": "stream",
     "text": [
      " 86%|████████▌ | 30/35 [01:20<00:15,  3.13s/it]"
     ]
    },
    {
     "name": "stdout",
     "output_type": "stream",
     "text": [
      "d5f7 | Qf7 is blunder. A Queen can be captured by a lower value piece. The opponent can play Bxf7+. \n",
      "\n",
      "f8e8 | Re8+ is best. By placing the rook on an open file, it controls important columns. \n",
      "\n"
     ]
    },
    {
     "name": "stderr",
     "output_type": "stream",
     "text": [
      "Not transmitting history with null moves to UCI engine\n",
      " 89%|████████▊ | 31/35 [01:23<00:12,  3.13s/it]"
     ]
    },
    {
     "name": "stdout",
     "output_type": "stream",
     "text": [
      "g4e4 | Qe4 is good. This defends a Pawn on c2. \n",
      "\n",
      "c4f7 | Bxf7+ is best. This pins a piece of the opponent to their king. This captures a higher value piece. \n",
      "\n"
     ]
    },
    {
     "name": "stderr",
     "output_type": "stream",
     "text": [
      "Not transmitting history with null moves to UCI engine\n",
      " 91%|█████████▏| 32/35 [01:27<00:10,  3.55s/it]"
     ]
    },
    {
     "name": "stdout",
     "output_type": "stream",
     "text": [
      "f8e8 | The opponent can play Qxe8+. Re8 is a blunder and allows checkmate. Black gets mated in 8.\n",
      "\n",
      "c8f5 | Bf5 is best. This attacks the Queen. This develops a Bishop. This move gains a tempo. \n",
      "\n"
     ]
    },
    {
     "name": "stderr",
     "output_type": "stream",
     "text": [
      " 94%|█████████▍| 33/35 [01:29<00:05,  2.90s/it]"
     ]
    },
    {
     "name": "stdout",
     "output_type": "stream",
     "text": [
      "e4e8 | Qxe8+ continues the checkmate sequence. White gets mated in 7.\n",
      "\n",
      "e4e8 | \n",
      "\n"
     ]
    },
    {
     "name": "stderr",
     "output_type": "stream",
     "text": [
      " 97%|█████████▋| 34/35 [01:30<00:02,  2.45s/it]"
     ]
    },
    {
     "name": "stdout",
     "output_type": "stream",
     "text": [
      "g8g7 | Kg7 is good, but Black will still get checkmated. Black gets mated in 7.\n",
      "\n",
      "g8g7 | \n",
      "\n"
     ]
    },
    {
     "name": "stderr",
     "output_type": "stream",
     "text": [
      "100%|██████████| 35/35 [01:31<00:00,  2.63s/it]"
     ]
    },
    {
     "name": "stdout",
     "output_type": "stream",
     "text": [
      "e8f7 | Qxf7+ continues the checkmate sequence. White gets mated in 6.\n",
      "\n",
      "e8f7 | \n",
      "\n"
     ]
    },
    {
     "name": "stderr",
     "output_type": "stream",
     "text": [
      "\n"
     ]
    }
   ],
   "source": [
    "review_list, best_review_list, classification_list, uci_best_moves, san_best_moves = review_game(uci_moves)"
   ]
  },
  {
   "cell_type": "code",
   "execution_count": 447,
   "metadata": {},
   "outputs": [
    {
     "name": "stderr",
     "output_type": "stream",
     "text": [
      " 29%|██▊       | 10/35 [00:06<00:15,  1.57it/s]\n"
     ]
    },
    {
     "ename": "KeyboardInterrupt",
     "evalue": "",
     "output_type": "error",
     "traceback": [
      "\u001b[1;31m---------------------------------------------------------------------------\u001b[0m",
      "\u001b[1;31mKeyboardInterrupt\u001b[0m                         Traceback (most recent call last)",
      "Cell \u001b[1;32mIn[447], line 1\u001b[0m\n\u001b[1;32m----> 1\u001b[0m scores, cpls_white, cpls_black, average_cpl_white, average_cpl_black \u001b[38;5;241m=\u001b[39m \u001b[43mcompute_cpl\u001b[49m\u001b[43m(\u001b[49m\u001b[43muci_moves\u001b[49m\u001b[43m)\u001b[49m\n",
      "Cell \u001b[1;32mIn[430], line 13\u001b[0m, in \u001b[0;36mcompute_cpl\u001b[1;34m(moves)\u001b[0m\n\u001b[0;32m     11\u001b[0m best_move \u001b[38;5;241m=\u001b[39m get_best_move(comp_board)\n\u001b[0;32m     12\u001b[0m comp_board\u001b[38;5;241m.\u001b[39mpush(best_move)\n\u001b[1;32m---> 13\u001b[0m score_best \u001b[38;5;241m=\u001b[39m \u001b[43mevaluate\u001b[49m\u001b[43m(\u001b[49m\u001b[43mcomp_board\u001b[49m\u001b[43m)\u001b[49m\n\u001b[0;32m     14\u001b[0m \u001b[38;5;28;01mif\u001b[39;00m score_best \u001b[38;5;241m==\u001b[39m \u001b[38;5;241m10000\u001b[39m:\n\u001b[0;32m     15\u001b[0m     score_best \u001b[38;5;241m=\u001b[39m \u001b[38;5;241m1000\u001b[39m\n",
      "Cell \u001b[1;32mIn[393], line 2\u001b[0m, in \u001b[0;36mevaluate\u001b[1;34m(board, stockfish_config, return_mate_n)\u001b[0m\n\u001b[0;32m      1\u001b[0m \u001b[38;5;28;01mdef\u001b[39;00m \u001b[38;5;21mevaluate\u001b[39m(board, stockfish_config\u001b[38;5;241m=\u001b[39mSTOCKFISH_CONFIG, return_mate_n\u001b[38;5;241m=\u001b[39m\u001b[38;5;28;01mFalse\u001b[39;00m):\n\u001b[1;32m----> 2\u001b[0m     \u001b[38;5;28;01mwith\u001b[39;00m \u001b[43mchess\u001b[49m\u001b[38;5;241;43m.\u001b[39;49m\u001b[43mengine\u001b[49m\u001b[38;5;241;43m.\u001b[39;49m\u001b[43mSimpleEngine\u001b[49m\u001b[38;5;241;43m.\u001b[39;49m\u001b[43mpopen_uci\u001b[49m\u001b[43m(\u001b[49m\u001b[43mstockfish_path\u001b[49m\u001b[43m)\u001b[49m \u001b[38;5;28;01mas\u001b[39;00m engine:\n\u001b[0;32m      3\u001b[0m         info \u001b[38;5;241m=\u001b[39m engine\u001b[38;5;241m.\u001b[39manalyse(board, chess\u001b[38;5;241m.\u001b[39mengine\u001b[38;5;241m.\u001b[39mLimit(\u001b[38;5;241m*\u001b[39m\u001b[38;5;241m*\u001b[39mstockfish_config))\n\u001b[0;32m      5\u001b[0m     possible_mate_score \u001b[38;5;241m=\u001b[39m \u001b[38;5;28mstr\u001b[39m(info[\u001b[38;5;124m'\u001b[39m\u001b[38;5;124mscore\u001b[39m\u001b[38;5;124m'\u001b[39m]\u001b[38;5;241m.\u001b[39mrelative)\n",
      "File \u001b[1;32mc:\\Users\\Jandrik\\AppData\\Local\\Programs\\Python\\Python312\\Lib\\site-packages\\chess\\engine.py:3054\u001b[0m, in \u001b[0;36mSimpleEngine.popen_uci\u001b[1;34m(cls, command, timeout, debug, setpgrp, **popen_args)\u001b[0m\n\u001b[0;32m   3048\u001b[0m \u001b[38;5;129m@classmethod\u001b[39m\n\u001b[0;32m   3049\u001b[0m \u001b[38;5;28;01mdef\u001b[39;00m \u001b[38;5;21mpopen_uci\u001b[39m(\u001b[38;5;28mcls\u001b[39m, command: Union[\u001b[38;5;28mstr\u001b[39m, List[\u001b[38;5;28mstr\u001b[39m]], \u001b[38;5;241m*\u001b[39m, timeout: Optional[\u001b[38;5;28mfloat\u001b[39m] \u001b[38;5;241m=\u001b[39m \u001b[38;5;241m10.0\u001b[39m, debug: \u001b[38;5;28mbool\u001b[39m \u001b[38;5;241m=\u001b[39m \u001b[38;5;28;01mFalse\u001b[39;00m, setpgrp: \u001b[38;5;28mbool\u001b[39m \u001b[38;5;241m=\u001b[39m \u001b[38;5;28;01mFalse\u001b[39;00m, \u001b[38;5;241m*\u001b[39m\u001b[38;5;241m*\u001b[39mpopen_args: Any) \u001b[38;5;241m-\u001b[39m\u001b[38;5;241m>\u001b[39m SimpleEngine:\n\u001b[0;32m   3050\u001b[0m \u001b[38;5;250m    \u001b[39m\u001b[38;5;124;03m\"\"\"\u001b[39;00m\n\u001b[0;32m   3051\u001b[0m \u001b[38;5;124;03m    Spawns and initializes a UCI engine.\u001b[39;00m\n\u001b[0;32m   3052\u001b[0m \u001b[38;5;124;03m    Returns a :class:`~chess.engine.SimpleEngine` instance.\u001b[39;00m\n\u001b[0;32m   3053\u001b[0m \u001b[38;5;124;03m    \"\"\"\u001b[39;00m\n\u001b[1;32m-> 3054\u001b[0m     \u001b[38;5;28;01mreturn\u001b[39;00m \u001b[38;5;28;43mcls\u001b[39;49m\u001b[38;5;241;43m.\u001b[39;49m\u001b[43mpopen\u001b[49m\u001b[43m(\u001b[49m\u001b[43mUciProtocol\u001b[49m\u001b[43m,\u001b[49m\u001b[43m \u001b[49m\u001b[43mcommand\u001b[49m\u001b[43m,\u001b[49m\u001b[43m \u001b[49m\u001b[43mtimeout\u001b[49m\u001b[38;5;241;43m=\u001b[39;49m\u001b[43mtimeout\u001b[49m\u001b[43m,\u001b[49m\u001b[43m \u001b[49m\u001b[43mdebug\u001b[49m\u001b[38;5;241;43m=\u001b[39;49m\u001b[43mdebug\u001b[49m\u001b[43m,\u001b[49m\u001b[43m \u001b[49m\u001b[43msetpgrp\u001b[49m\u001b[38;5;241;43m=\u001b[39;49m\u001b[43msetpgrp\u001b[49m\u001b[43m,\u001b[49m\u001b[43m \u001b[49m\u001b[38;5;241;43m*\u001b[39;49m\u001b[38;5;241;43m*\u001b[39;49m\u001b[43mpopen_args\u001b[49m\u001b[43m)\u001b[49m\n",
      "File \u001b[1;32mc:\\Users\\Jandrik\\AppData\\Local\\Programs\\Python\\Python312\\Lib\\site-packages\\chess\\engine.py:3046\u001b[0m, in \u001b[0;36mSimpleEngine.popen\u001b[1;34m(cls, Protocol, command, timeout, debug, setpgrp, **popen_args)\u001b[0m\n\u001b[0;32m   3043\u001b[0m         simple_engine\u001b[38;5;241m.\u001b[39mclose()\n\u001b[0;32m   3044\u001b[0m     \u001b[38;5;28;01mawait\u001b[39;00m simple_engine\u001b[38;5;241m.\u001b[39mshutdown_event\u001b[38;5;241m.\u001b[39mwait()\n\u001b[1;32m-> 3046\u001b[0m \u001b[38;5;28;01mreturn\u001b[39;00m \u001b[43mrun_in_background\u001b[49m\u001b[43m(\u001b[49m\u001b[43mbackground\u001b[49m\u001b[43m,\u001b[49m\u001b[43m \u001b[49m\u001b[43mname\u001b[49m\u001b[38;5;241;43m=\u001b[39;49m\u001b[38;5;124;43mf\u001b[39;49m\u001b[38;5;124;43m\"\u001b[39;49m\u001b[38;5;132;43;01m{\u001b[39;49;00m\u001b[38;5;28;43mcls\u001b[39;49m\u001b[38;5;241;43m.\u001b[39;49m\u001b[38;5;18;43m__name__\u001b[39;49m\u001b[38;5;132;43;01m}\u001b[39;49;00m\u001b[38;5;124;43m (command=\u001b[39;49m\u001b[38;5;132;43;01m{\u001b[39;49;00m\u001b[43mcommand\u001b[49m\u001b[38;5;132;43;01m!r}\u001b[39;49;00m\u001b[38;5;124;43m)\u001b[39;49m\u001b[38;5;124;43m\"\u001b[39;49m\u001b[43m,\u001b[49m\u001b[43m \u001b[49m\u001b[43mdebug\u001b[49m\u001b[38;5;241;43m=\u001b[39;49m\u001b[43mdebug\u001b[49m\u001b[43m)\u001b[49m\n",
      "File \u001b[1;32mc:\\Users\\Jandrik\\AppData\\Local\\Programs\\Python\\Python312\\Lib\\site-packages\\chess\\engine.py:201\u001b[0m, in \u001b[0;36mrun_in_background\u001b[1;34m(coroutine, name, debug, _policy_lock)\u001b[0m\n\u001b[0;32m    198\u001b[0m         future\u001b[38;5;241m.\u001b[39mset_exception(exc)\n\u001b[0;32m    200\u001b[0m threading\u001b[38;5;241m.\u001b[39mThread(target\u001b[38;5;241m=\u001b[39mbackground, name\u001b[38;5;241m=\u001b[39mname)\u001b[38;5;241m.\u001b[39mstart()\n\u001b[1;32m--> 201\u001b[0m \u001b[38;5;28;01mreturn\u001b[39;00m \u001b[43mfuture\u001b[49m\u001b[38;5;241;43m.\u001b[39;49m\u001b[43mresult\u001b[49m\u001b[43m(\u001b[49m\u001b[43m)\u001b[49m\n",
      "File \u001b[1;32mc:\\Users\\Jandrik\\AppData\\Local\\Programs\\Python\\Python312\\Lib\\concurrent\\futures\\_base.py:451\u001b[0m, in \u001b[0;36mFuture.result\u001b[1;34m(self, timeout)\u001b[0m\n\u001b[0;32m    448\u001b[0m \u001b[38;5;28;01melif\u001b[39;00m \u001b[38;5;28mself\u001b[39m\u001b[38;5;241m.\u001b[39m_state \u001b[38;5;241m==\u001b[39m FINISHED:\n\u001b[0;32m    449\u001b[0m     \u001b[38;5;28;01mreturn\u001b[39;00m \u001b[38;5;28mself\u001b[39m\u001b[38;5;241m.\u001b[39m__get_result()\n\u001b[1;32m--> 451\u001b[0m \u001b[38;5;28;43mself\u001b[39;49m\u001b[38;5;241;43m.\u001b[39;49m\u001b[43m_condition\u001b[49m\u001b[38;5;241;43m.\u001b[39;49m\u001b[43mwait\u001b[49m\u001b[43m(\u001b[49m\u001b[43mtimeout\u001b[49m\u001b[43m)\u001b[49m\n\u001b[0;32m    453\u001b[0m \u001b[38;5;28;01mif\u001b[39;00m \u001b[38;5;28mself\u001b[39m\u001b[38;5;241m.\u001b[39m_state \u001b[38;5;129;01min\u001b[39;00m [CANCELLED, CANCELLED_AND_NOTIFIED]:\n\u001b[0;32m    454\u001b[0m     \u001b[38;5;28;01mraise\u001b[39;00m CancelledError()\n",
      "File \u001b[1;32mc:\\Users\\Jandrik\\AppData\\Local\\Programs\\Python\\Python312\\Lib\\threading.py:334\u001b[0m, in \u001b[0;36mCondition.wait\u001b[1;34m(self, timeout)\u001b[0m\n\u001b[0;32m    332\u001b[0m \u001b[38;5;28;01mtry\u001b[39;00m:    \u001b[38;5;66;03m# restore state no matter what (e.g., KeyboardInterrupt)\u001b[39;00m\n\u001b[0;32m    333\u001b[0m     \u001b[38;5;28;01mif\u001b[39;00m timeout \u001b[38;5;129;01mis\u001b[39;00m \u001b[38;5;28;01mNone\u001b[39;00m:\n\u001b[1;32m--> 334\u001b[0m         \u001b[43mwaiter\u001b[49m\u001b[38;5;241;43m.\u001b[39;49m\u001b[43macquire\u001b[49m\u001b[43m(\u001b[49m\u001b[43m)\u001b[49m\n\u001b[0;32m    335\u001b[0m         gotit \u001b[38;5;241m=\u001b[39m \u001b[38;5;28;01mTrue\u001b[39;00m\n\u001b[0;32m    336\u001b[0m     \u001b[38;5;28;01melse\u001b[39;00m:\n",
      "\u001b[1;31mKeyboardInterrupt\u001b[0m: "
     ]
    }
   ],
   "source": [
    "scores, cpls_white, cpls_black, average_cpl_white, average_cpl_black = compute_cpl(uci_moves)"
   ]
  },
  {
   "cell_type": "code",
   "execution_count": null,
   "metadata": {},
   "outputs": [],
   "source": [
    "white_acc, black_acc = calculate_accuracy([0] + scores)\n",
    "white_elo = estimate_elo(average_cpl_white)\n",
    "black_elo = estimate_elo(average_cpl_black)\n"
   ]
  },
  {
   "cell_type": "code",
   "execution_count": null,
   "metadata": {},
   "outputs": [
    {
     "data": {
      "text/plain": [
       "(100, 100)"
      ]
     },
     "execution_count": 201,
     "metadata": {},
     "output_type": "execute_result"
    }
   ],
   "source": [
    "white_elo, black_elo"
   ]
  }
 ],
 "metadata": {
  "kernelspec": {
   "display_name": "Python 3",
   "language": "python",
   "name": "python3"
  },
  "language_info": {
   "codemirror_mode": {
    "name": "ipython",
    "version": 3
   },
   "file_extension": ".py",
   "mimetype": "text/x-python",
   "name": "python",
   "nbconvert_exporter": "python",
   "pygments_lexer": "ipython3",
   "version": "3.12.0"
  }
 },
 "nbformat": 4,
 "nbformat_minor": 2
}
